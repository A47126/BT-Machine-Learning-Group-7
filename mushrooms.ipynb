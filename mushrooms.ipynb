{
  "cells": [
    {
      "cell_type": "markdown",
      "metadata": {
        "id": "view-in-github",
        "colab_type": "text"
      },
      "source": [
        "<a href=\"https://colab.research.google.com/github/A47126/BT-Machine-Learning-Group-7/blob/main/mushrooms.ipynb\" target=\"_parent\"><img src=\"https://colab.research.google.com/assets/colab-badge.svg\" alt=\"Open In Colab\"/></a>"
      ]
    },
    {
      "cell_type": "markdown",
      "id": "31406412",
      "metadata": {
        "id": "31406412"
      },
      "source": [
        "# Mô tả & Tiền xử lý"
      ]
    },
    {
      "cell_type": "code",
      "execution_count": 3,
      "id": "4b8a516d",
      "metadata": {
        "id": "4b8a516d",
        "outputId": "280124e1-adee-4b85-d0b3-c3911f755890",
        "colab": {
          "base_uri": "https://localhost:8080/",
          "height": 339
        }
      },
      "outputs": [
        {
          "output_type": "error",
          "ename": "FileNotFoundError",
          "evalue": "[Errno 2] No such file or directory: 'mushrooms.csv'",
          "traceback": [
            "\u001b[0;31m---------------------------------------------------------------------------\u001b[0m",
            "\u001b[0;31mFileNotFoundError\u001b[0m                         Traceback (most recent call last)",
            "\u001b[0;32m<ipython-input-3-0a611e4f0021>\u001b[0m in \u001b[0;36m<cell line: 0>\u001b[0;34m()\u001b[0m\n\u001b[1;32m      6\u001b[0m \u001b[0;32mfrom\u001b[0m \u001b[0msklearn\u001b[0m\u001b[0;34m.\u001b[0m\u001b[0mmodel_selection\u001b[0m \u001b[0;32mimport\u001b[0m \u001b[0mtrain_test_split\u001b[0m\u001b[0;34m\u001b[0m\u001b[0;34m\u001b[0m\u001b[0m\n\u001b[1;32m      7\u001b[0m \u001b[0;34m\u001b[0m\u001b[0m\n\u001b[0;32m----> 8\u001b[0;31m \u001b[0mdf\u001b[0m \u001b[0;34m=\u001b[0m \u001b[0mpd\u001b[0m\u001b[0;34m.\u001b[0m\u001b[0mread_csv\u001b[0m\u001b[0;34m(\u001b[0m\u001b[0;34m'mushrooms.csv'\u001b[0m\u001b[0;34m)\u001b[0m\u001b[0;34m\u001b[0m\u001b[0;34m\u001b[0m\u001b[0m\n\u001b[0m\u001b[1;32m      9\u001b[0m \u001b[0mdf\u001b[0m\u001b[0;34m.\u001b[0m\u001b[0mhead\u001b[0m\u001b[0;34m(\u001b[0m\u001b[0;34m)\u001b[0m\u001b[0;34m\u001b[0m\u001b[0;34m\u001b[0m\u001b[0m\n",
            "\u001b[0;32m/usr/local/lib/python3.11/dist-packages/pandas/io/parsers/readers.py\u001b[0m in \u001b[0;36mread_csv\u001b[0;34m(filepath_or_buffer, sep, delimiter, header, names, index_col, usecols, dtype, engine, converters, true_values, false_values, skipinitialspace, skiprows, skipfooter, nrows, na_values, keep_default_na, na_filter, verbose, skip_blank_lines, parse_dates, infer_datetime_format, keep_date_col, date_parser, date_format, dayfirst, cache_dates, iterator, chunksize, compression, thousands, decimal, lineterminator, quotechar, quoting, doublequote, escapechar, comment, encoding, encoding_errors, dialect, on_bad_lines, delim_whitespace, low_memory, memory_map, float_precision, storage_options, dtype_backend)\u001b[0m\n\u001b[1;32m   1024\u001b[0m     \u001b[0mkwds\u001b[0m\u001b[0;34m.\u001b[0m\u001b[0mupdate\u001b[0m\u001b[0;34m(\u001b[0m\u001b[0mkwds_defaults\u001b[0m\u001b[0;34m)\u001b[0m\u001b[0;34m\u001b[0m\u001b[0;34m\u001b[0m\u001b[0m\n\u001b[1;32m   1025\u001b[0m \u001b[0;34m\u001b[0m\u001b[0m\n\u001b[0;32m-> 1026\u001b[0;31m     \u001b[0;32mreturn\u001b[0m \u001b[0m_read\u001b[0m\u001b[0;34m(\u001b[0m\u001b[0mfilepath_or_buffer\u001b[0m\u001b[0;34m,\u001b[0m \u001b[0mkwds\u001b[0m\u001b[0;34m)\u001b[0m\u001b[0;34m\u001b[0m\u001b[0;34m\u001b[0m\u001b[0m\n\u001b[0m\u001b[1;32m   1027\u001b[0m \u001b[0;34m\u001b[0m\u001b[0m\n\u001b[1;32m   1028\u001b[0m \u001b[0;34m\u001b[0m\u001b[0m\n",
            "\u001b[0;32m/usr/local/lib/python3.11/dist-packages/pandas/io/parsers/readers.py\u001b[0m in \u001b[0;36m_read\u001b[0;34m(filepath_or_buffer, kwds)\u001b[0m\n\u001b[1;32m    618\u001b[0m \u001b[0;34m\u001b[0m\u001b[0m\n\u001b[1;32m    619\u001b[0m     \u001b[0;31m# Create the parser.\u001b[0m\u001b[0;34m\u001b[0m\u001b[0;34m\u001b[0m\u001b[0m\n\u001b[0;32m--> 620\u001b[0;31m     \u001b[0mparser\u001b[0m \u001b[0;34m=\u001b[0m \u001b[0mTextFileReader\u001b[0m\u001b[0;34m(\u001b[0m\u001b[0mfilepath_or_buffer\u001b[0m\u001b[0;34m,\u001b[0m \u001b[0;34m**\u001b[0m\u001b[0mkwds\u001b[0m\u001b[0;34m)\u001b[0m\u001b[0;34m\u001b[0m\u001b[0;34m\u001b[0m\u001b[0m\n\u001b[0m\u001b[1;32m    621\u001b[0m \u001b[0;34m\u001b[0m\u001b[0m\n\u001b[1;32m    622\u001b[0m     \u001b[0;32mif\u001b[0m \u001b[0mchunksize\u001b[0m \u001b[0;32mor\u001b[0m \u001b[0miterator\u001b[0m\u001b[0;34m:\u001b[0m\u001b[0;34m\u001b[0m\u001b[0;34m\u001b[0m\u001b[0m\n",
            "\u001b[0;32m/usr/local/lib/python3.11/dist-packages/pandas/io/parsers/readers.py\u001b[0m in \u001b[0;36m__init__\u001b[0;34m(self, f, engine, **kwds)\u001b[0m\n\u001b[1;32m   1618\u001b[0m \u001b[0;34m\u001b[0m\u001b[0m\n\u001b[1;32m   1619\u001b[0m         \u001b[0mself\u001b[0m\u001b[0;34m.\u001b[0m\u001b[0mhandles\u001b[0m\u001b[0;34m:\u001b[0m \u001b[0mIOHandles\u001b[0m \u001b[0;34m|\u001b[0m \u001b[0;32mNone\u001b[0m \u001b[0;34m=\u001b[0m \u001b[0;32mNone\u001b[0m\u001b[0;34m\u001b[0m\u001b[0;34m\u001b[0m\u001b[0m\n\u001b[0;32m-> 1620\u001b[0;31m         \u001b[0mself\u001b[0m\u001b[0;34m.\u001b[0m\u001b[0m_engine\u001b[0m \u001b[0;34m=\u001b[0m \u001b[0mself\u001b[0m\u001b[0;34m.\u001b[0m\u001b[0m_make_engine\u001b[0m\u001b[0;34m(\u001b[0m\u001b[0mf\u001b[0m\u001b[0;34m,\u001b[0m \u001b[0mself\u001b[0m\u001b[0;34m.\u001b[0m\u001b[0mengine\u001b[0m\u001b[0;34m)\u001b[0m\u001b[0;34m\u001b[0m\u001b[0;34m\u001b[0m\u001b[0m\n\u001b[0m\u001b[1;32m   1621\u001b[0m \u001b[0;34m\u001b[0m\u001b[0m\n\u001b[1;32m   1622\u001b[0m     \u001b[0;32mdef\u001b[0m \u001b[0mclose\u001b[0m\u001b[0;34m(\u001b[0m\u001b[0mself\u001b[0m\u001b[0;34m)\u001b[0m \u001b[0;34m->\u001b[0m \u001b[0;32mNone\u001b[0m\u001b[0;34m:\u001b[0m\u001b[0;34m\u001b[0m\u001b[0;34m\u001b[0m\u001b[0m\n",
            "\u001b[0;32m/usr/local/lib/python3.11/dist-packages/pandas/io/parsers/readers.py\u001b[0m in \u001b[0;36m_make_engine\u001b[0;34m(self, f, engine)\u001b[0m\n\u001b[1;32m   1878\u001b[0m                 \u001b[0;32mif\u001b[0m \u001b[0;34m\"b\"\u001b[0m \u001b[0;32mnot\u001b[0m \u001b[0;32min\u001b[0m \u001b[0mmode\u001b[0m\u001b[0;34m:\u001b[0m\u001b[0;34m\u001b[0m\u001b[0;34m\u001b[0m\u001b[0m\n\u001b[1;32m   1879\u001b[0m                     \u001b[0mmode\u001b[0m \u001b[0;34m+=\u001b[0m \u001b[0;34m\"b\"\u001b[0m\u001b[0;34m\u001b[0m\u001b[0;34m\u001b[0m\u001b[0m\n\u001b[0;32m-> 1880\u001b[0;31m             self.handles = get_handle(\n\u001b[0m\u001b[1;32m   1881\u001b[0m                 \u001b[0mf\u001b[0m\u001b[0;34m,\u001b[0m\u001b[0;34m\u001b[0m\u001b[0;34m\u001b[0m\u001b[0m\n\u001b[1;32m   1882\u001b[0m                 \u001b[0mmode\u001b[0m\u001b[0;34m,\u001b[0m\u001b[0;34m\u001b[0m\u001b[0;34m\u001b[0m\u001b[0m\n",
            "\u001b[0;32m/usr/local/lib/python3.11/dist-packages/pandas/io/common.py\u001b[0m in \u001b[0;36mget_handle\u001b[0;34m(path_or_buf, mode, encoding, compression, memory_map, is_text, errors, storage_options)\u001b[0m\n\u001b[1;32m    871\u001b[0m         \u001b[0;32mif\u001b[0m \u001b[0mioargs\u001b[0m\u001b[0;34m.\u001b[0m\u001b[0mencoding\u001b[0m \u001b[0;32mand\u001b[0m \u001b[0;34m\"b\"\u001b[0m \u001b[0;32mnot\u001b[0m \u001b[0;32min\u001b[0m \u001b[0mioargs\u001b[0m\u001b[0;34m.\u001b[0m\u001b[0mmode\u001b[0m\u001b[0;34m:\u001b[0m\u001b[0;34m\u001b[0m\u001b[0;34m\u001b[0m\u001b[0m\n\u001b[1;32m    872\u001b[0m             \u001b[0;31m# Encoding\u001b[0m\u001b[0;34m\u001b[0m\u001b[0;34m\u001b[0m\u001b[0m\n\u001b[0;32m--> 873\u001b[0;31m             handle = open(\n\u001b[0m\u001b[1;32m    874\u001b[0m                 \u001b[0mhandle\u001b[0m\u001b[0;34m,\u001b[0m\u001b[0;34m\u001b[0m\u001b[0;34m\u001b[0m\u001b[0m\n\u001b[1;32m    875\u001b[0m                 \u001b[0mioargs\u001b[0m\u001b[0;34m.\u001b[0m\u001b[0mmode\u001b[0m\u001b[0;34m,\u001b[0m\u001b[0;34m\u001b[0m\u001b[0;34m\u001b[0m\u001b[0m\n",
            "\u001b[0;31mFileNotFoundError\u001b[0m: [Errno 2] No such file or directory: 'mushrooms.csv'"
          ]
        }
      ],
      "source": [
        "import pandas as pd\n",
        "import seaborn as sns\n",
        "import matplotlib.pyplot as plt\n",
        "from imblearn.over_sampling import SMOTE\n",
        "from sklearn.preprocessing import LabelEncoder\n",
        "from sklearn.model_selection import train_test_split\n",
        "\n",
        "df = pd.read_csv('mushrooms.csv')\n",
        "df.head()"
      ]
    },
    {
      "cell_type": "code",
      "execution_count": null,
      "id": "7372f088",
      "metadata": {
        "id": "7372f088"
      },
      "outputs": [],
      "source": [
        "df.shape\n",
        "# 8124 hàng, 23 cột"
      ]
    },
    {
      "cell_type": "code",
      "execution_count": null,
      "id": "d07c353c",
      "metadata": {
        "id": "d07c353c"
      },
      "outputs": [],
      "source": [
        "df.describe()"
      ]
    },
    {
      "cell_type": "code",
      "execution_count": null,
      "id": "439c2605",
      "metadata": {
        "id": "439c2605"
      },
      "outputs": [],
      "source": [
        "df.isnull().sum()\n",
        "# Không có dữ liệu null"
      ]
    },
    {
      "cell_type": "code",
      "execution_count": null,
      "id": "fc564007",
      "metadata": {
        "id": "fc564007"
      },
      "outputs": [],
      "source": [
        "df.duplicated()\n",
        "# Không có dữ liệu trùng"
      ]
    },
    {
      "cell_type": "code",
      "execution_count": null,
      "id": "c2ed75da",
      "metadata": {
        "id": "c2ed75da"
      },
      "outputs": [],
      "source": [
        "df.nunique()\n",
        "# Cột veil-type có duy nhất 1 giá trị => có thể bỏ mà không ảnh hưởng kết quả mô hình"
      ]
    },
    {
      "cell_type": "code",
      "execution_count": null,
      "id": "69634aa6",
      "metadata": {
        "id": "69634aa6"
      },
      "outputs": [],
      "source": [
        "le = LabelEncoder()\n",
        "for col in df.columns:\n",
        "    df[col] = le.fit_transform(df[col])"
      ]
    },
    {
      "cell_type": "code",
      "execution_count": null,
      "id": "513d3d0f",
      "metadata": {
        "id": "513d3d0f"
      },
      "outputs": [],
      "source": [
        "for cols in df.columns:\n",
        "    plt.figure(figsize=(8,4))\n",
        "    df[cols].value_counts().plot(kind='bar')\n",
        "    plt.title(f'Tần suất xuất hiện - Cột {cols}')\n",
        "    plt.xlabel('Giá trị')\n",
        "    plt.ylabel('Số lần xuất hiện')\n",
        "    plt.xticks(rotation=45)\n",
        "    plt.grid(axis='y', linestyle='--', alpha=0.7)\n",
        "    plt.tight_layout()\n",
        "    plt.show()"
      ]
    },
    {
      "cell_type": "code",
      "execution_count": null,
      "id": "4f70b7fd",
      "metadata": {
        "id": "4f70b7fd"
      },
      "outputs": [],
      "source": [
        "df = df.drop(columns = ['veil-type'])"
      ]
    },
    {
      "cell_type": "code",
      "execution_count": null,
      "id": "d0e00705",
      "metadata": {
        "id": "d0e00705"
      },
      "outputs": [],
      "source": [
        "df['class'].value_counts()\n",
        "# Cột nhãn khá cân bằng"
      ]
    },
    {
      "cell_type": "markdown",
      "id": "9ae5d79a",
      "metadata": {
        "id": "9ae5d79a"
      },
      "source": [
        "# Chia train, validation, test"
      ]
    },
    {
      "cell_type": "code",
      "execution_count": null,
      "id": "67c6f85a",
      "metadata": {
        "id": "67c6f85a"
      },
      "outputs": [],
      "source": [
        "X = df.drop(columns=['class'])\n",
        "y = df['class']"
      ]
    },
    {
      "cell_type": "code",
      "execution_count": null,
      "id": "1ea20e7a",
      "metadata": {
        "id": "1ea20e7a"
      },
      "outputs": [],
      "source": [
        "X_train, X_temp, y_train, y_temp = train_test_split(X, y, test_size=0.3, random_state=42)\n",
        "X_test, X_val, y_test, y_val = train_test_split(X_temp, y_temp, test_size=1/3, random_state=42)\n",
        "X_train.shape, X_val.shape, X_test.shape"
      ]
    },
    {
      "cell_type": "code",
      "execution_count": null,
      "id": "55bf4702",
      "metadata": {
        "id": "55bf4702"
      },
      "outputs": [],
      "source": [
        "smote = SMOTE(sampling_strategy=1.0, random_state=42)\n",
        "X_train_resamp, y_train_resamp = smote.fit_resample(X_train, y_train)"
      ]
    },
    {
      "cell_type": "markdown",
      "id": "c82ca11a",
      "metadata": {
        "id": "c82ca11a"
      },
      "source": [
        "# A47126: Decision Tree\n"
      ]
    },
    {
      "cell_type": "markdown",
      "id": "d290cd0b",
      "metadata": {
        "id": "d290cd0b"
      },
      "source": [
        "1. Import thư viện mô hình & các thư viện cần thiết khác"
      ]
    },
    {
      "cell_type": "code",
      "execution_count": null,
      "id": "faa6c274",
      "metadata": {
        "id": "faa6c274"
      },
      "outputs": [],
      "source": []
    },
    {
      "cell_type": "markdown",
      "id": "d6844a58",
      "metadata": {
        "id": "d6844a58"
      },
      "source": [
        "2. Huấn luyện mô hình"
      ]
    },
    {
      "cell_type": "code",
      "execution_count": null,
      "id": "e06d3ca1",
      "metadata": {
        "id": "e06d3ca1"
      },
      "outputs": [],
      "source": []
    },
    {
      "cell_type": "markdown",
      "id": "3ee14b38",
      "metadata": {
        "id": "3ee14b38"
      },
      "source": [
        "3. Dự đoán"
      ]
    },
    {
      "cell_type": "code",
      "execution_count": null,
      "id": "2cc67cd3",
      "metadata": {
        "id": "2cc67cd3"
      },
      "outputs": [],
      "source": []
    },
    {
      "cell_type": "markdown",
      "id": "2cef6f33",
      "metadata": {
        "id": "2cef6f33"
      },
      "source": [
        "4. Tối ưu hóa mô hình"
      ]
    },
    {
      "cell_type": "code",
      "execution_count": null,
      "id": "2149b8e8",
      "metadata": {
        "id": "2149b8e8"
      },
      "outputs": [],
      "source": []
    },
    {
      "cell_type": "markdown",
      "id": "dc73cf48",
      "metadata": {
        "id": "dc73cf48"
      },
      "source": [
        "5. Đánh giá mô hình (LƯU Ý: giảm False Negative) & phải có Confusion Matrix, AUC"
      ]
    },
    {
      "cell_type": "code",
      "execution_count": null,
      "id": "e20b7928",
      "metadata": {
        "id": "e20b7928"
      },
      "outputs": [],
      "source": []
    },
    {
      "cell_type": "markdown",
      "id": "ae786ef1",
      "metadata": {
        "id": "ae786ef1"
      },
      "source": [
        "# A47047: Logistics Regression"
      ]
    },
    {
      "cell_type": "markdown",
      "id": "1accbfe8",
      "metadata": {
        "id": "1accbfe8"
      },
      "source": [
        "1. Import thư viện mô hình & các thư viện cần thiết khác"
      ]
    },
    {
      "cell_type": "code",
      "execution_count": null,
      "id": "7c5e2ed5",
      "metadata": {
        "id": "7c5e2ed5"
      },
      "outputs": [],
      "source": [
        "from sklearn.linear_model import LogisticRegression"
      ]
    },
    {
      "cell_type": "markdown",
      "id": "77c54515",
      "metadata": {
        "id": "77c54515"
      },
      "source": [
        "2. Huấn luyện mô hình"
      ]
    },
    {
      "cell_type": "code",
      "execution_count": null,
      "id": "09c6519e",
      "metadata": {
        "id": "09c6519e"
      },
      "outputs": [],
      "source": []
    },
    {
      "cell_type": "markdown",
      "id": "aa21021e",
      "metadata": {
        "id": "aa21021e"
      },
      "source": [
        "3. Dự đoán"
      ]
    },
    {
      "cell_type": "code",
      "execution_count": null,
      "id": "cb93ecc6",
      "metadata": {
        "id": "cb93ecc6"
      },
      "outputs": [],
      "source": []
    },
    {
      "cell_type": "markdown",
      "id": "a25850d4",
      "metadata": {
        "id": "a25850d4"
      },
      "source": [
        "4. Tối ưu hóa mô hình"
      ]
    },
    {
      "cell_type": "code",
      "execution_count": null,
      "id": "7882597b",
      "metadata": {
        "id": "7882597b"
      },
      "outputs": [],
      "source": []
    },
    {
      "cell_type": "markdown",
      "id": "c2c73620",
      "metadata": {
        "id": "c2c73620"
      },
      "source": [
        "5. Đánh giá mô hình (LƯU Ý: Dùng Recall để giảm False Negative) & phải có Confusion Matrix, AUC"
      ]
    },
    {
      "cell_type": "code",
      "execution_count": null,
      "id": "a408b0f0",
      "metadata": {
        "id": "a408b0f0"
      },
      "outputs": [],
      "source": []
    },
    {
      "cell_type": "markdown",
      "id": "2b7cd89d",
      "metadata": {
        "id": "2b7cd89d"
      },
      "source": [
        "# A49569: K-nearest neighbors"
      ]
    },
    {
      "cell_type": "markdown",
      "id": "dbac5463",
      "metadata": {
        "id": "dbac5463"
      },
      "source": [
        "1. Import thư viện mô hình & các thư viện cần thiết khác"
      ]
    },
    {
      "cell_type": "code",
      "execution_count": null,
      "id": "511a1351",
      "metadata": {
        "id": "511a1351"
      },
      "outputs": [],
      "source": []
    },
    {
      "cell_type": "markdown",
      "id": "985152dc",
      "metadata": {
        "id": "985152dc"
      },
      "source": [
        "2. Huấn luyện mô hình"
      ]
    },
    {
      "cell_type": "code",
      "execution_count": null,
      "id": "61d9db90",
      "metadata": {
        "id": "61d9db90"
      },
      "outputs": [],
      "source": []
    },
    {
      "cell_type": "markdown",
      "id": "9ebaf57b",
      "metadata": {
        "id": "9ebaf57b"
      },
      "source": [
        "3. Dự đoán"
      ]
    },
    {
      "cell_type": "code",
      "execution_count": null,
      "id": "1981acaf",
      "metadata": {
        "id": "1981acaf"
      },
      "outputs": [],
      "source": []
    },
    {
      "cell_type": "markdown",
      "id": "c0fc13e1",
      "metadata": {
        "id": "c0fc13e1"
      },
      "source": [
        "4. Tối ưu hóa mô hình"
      ]
    },
    {
      "cell_type": "code",
      "execution_count": null,
      "id": "0cbc8da5",
      "metadata": {
        "id": "0cbc8da5"
      },
      "outputs": [],
      "source": []
    },
    {
      "cell_type": "markdown",
      "id": "9b3bc917",
      "metadata": {
        "id": "9b3bc917"
      },
      "source": [
        "5. Đánh giá mô hình (LƯU Ý: Dùng Recall để giảm False Negative) & phải có Confusion Matrix, AUC"
      ]
    },
    {
      "cell_type": "code",
      "execution_count": null,
      "id": "a623eeb2",
      "metadata": {
        "id": "a623eeb2"
      },
      "outputs": [],
      "source": []
    },
    {
      "cell_type": "markdown",
      "id": "81b16de4",
      "metadata": {
        "id": "81b16de4"
      },
      "source": [
        "# A49002: Bernoulli, Categorical"
      ]
    },
    {
      "cell_type": "markdown",
      "id": "0040dc5d",
      "metadata": {
        "id": "0040dc5d"
      },
      "source": [
        "1. Import thư viện mô hình & các thư viện cần thiết khác"
      ]
    },
    {
      "cell_type": "code",
      "execution_count": null,
      "id": "e6206f86",
      "metadata": {
        "id": "e6206f86"
      },
      "outputs": [],
      "source": []
    },
    {
      "cell_type": "markdown",
      "id": "29bb5a1e",
      "metadata": {
        "id": "29bb5a1e"
      },
      "source": [
        "2. Huấn luyện mô hình"
      ]
    },
    {
      "cell_type": "code",
      "execution_count": null,
      "id": "9e41e561",
      "metadata": {
        "id": "9e41e561"
      },
      "outputs": [],
      "source": []
    },
    {
      "cell_type": "markdown",
      "id": "fc10247b",
      "metadata": {
        "id": "fc10247b"
      },
      "source": [
        "3. Dự đoán"
      ]
    },
    {
      "cell_type": "code",
      "execution_count": null,
      "id": "4dd58c20",
      "metadata": {
        "id": "4dd58c20"
      },
      "outputs": [],
      "source": []
    },
    {
      "cell_type": "markdown",
      "id": "cef3f8e1",
      "metadata": {
        "id": "cef3f8e1"
      },
      "source": [
        "4. Tối ưu hóa mô hình"
      ]
    },
    {
      "cell_type": "code",
      "execution_count": null,
      "id": "09b72ac6",
      "metadata": {
        "id": "09b72ac6"
      },
      "outputs": [],
      "source": []
    },
    {
      "cell_type": "markdown",
      "id": "751a22e0",
      "metadata": {
        "id": "751a22e0"
      },
      "source": [
        "5. Đánh giá mô hình (LƯU Ý: Dùng Recall để giảm False Negative) & phải có Confusion Matrix, AUC"
      ]
    },
    {
      "cell_type": "code",
      "execution_count": null,
      "id": "ac4240f1",
      "metadata": {
        "id": "ac4240f1"
      },
      "outputs": [],
      "source": []
    },
    {
      "cell_type": "markdown",
      "id": "4e9b79de",
      "metadata": {
        "id": "4e9b79de"
      },
      "source": [
        "# A48572: Gaussian, Multinomial"
      ]
    },
    {
      "cell_type": "markdown",
      "id": "b1120489",
      "metadata": {
        "id": "b1120489"
      },
      "source": [
        "1. Import thư viện mô hình & các thư viện cần thiết khác"
      ]
    },
    {
      "cell_type": "code",
      "execution_count": null,
      "id": "6d91aaa3",
      "metadata": {
        "id": "6d91aaa3"
      },
      "outputs": [],
      "source": []
    },
    {
      "cell_type": "markdown",
      "id": "dc52fe36",
      "metadata": {
        "id": "dc52fe36"
      },
      "source": [
        "2. Huấn luyện mô hình"
      ]
    },
    {
      "cell_type": "code",
      "execution_count": null,
      "id": "5d31b92e",
      "metadata": {
        "id": "5d31b92e"
      },
      "outputs": [],
      "source": []
    },
    {
      "cell_type": "markdown",
      "id": "6481b418",
      "metadata": {
        "id": "6481b418"
      },
      "source": [
        "3. Dự đoán"
      ]
    },
    {
      "cell_type": "code",
      "execution_count": null,
      "id": "9f8cf9c7",
      "metadata": {
        "id": "9f8cf9c7"
      },
      "outputs": [],
      "source": []
    },
    {
      "cell_type": "markdown",
      "id": "74632e2d",
      "metadata": {
        "id": "74632e2d"
      },
      "source": [
        "4. Tối ưu hóa mô hình"
      ]
    },
    {
      "cell_type": "code",
      "execution_count": null,
      "id": "ded48022",
      "metadata": {
        "id": "ded48022"
      },
      "outputs": [],
      "source": []
    },
    {
      "cell_type": "markdown",
      "id": "aaf0d598",
      "metadata": {
        "id": "aaf0d598"
      },
      "source": [
        "5. Đánh giá mô hình (LƯU Ý: Dùng Recall để giảm False Negative) & phải có Confusion Matrix, AUC"
      ]
    },
    {
      "cell_type": "code",
      "execution_count": null,
      "id": "01203c39",
      "metadata": {
        "id": "01203c39"
      },
      "outputs": [],
      "source": []
    },
    {
      "cell_type": "markdown",
      "id": "3c78f99f",
      "metadata": {
        "id": "3c78f99f"
      },
      "source": [
        "# Lưu code"
      ]
    },
    {
      "cell_type": "code",
      "execution_count": null,
      "id": "c47b0e3a",
      "metadata": {
        "id": "c47b0e3a"
      },
      "outputs": [],
      "source": [
        "# Viết xong: Ctrl + S\n",
        "# Sau đó\n",
        "# Mở terminal lên: Ctrl + ~\n",
        "# Copy câu này vào: git add . && git commit -m \"Up\" && git push"
      ]
    }
  ],
  "metadata": {
    "kernelspec": {
      "display_name": "Python 3",
      "language": "python",
      "name": "python3"
    },
    "language_info": {
      "codemirror_mode": {
        "name": "ipython",
        "version": 3
      },
      "file_extension": ".py",
      "mimetype": "text/x-python",
      "name": "python",
      "nbconvert_exporter": "python",
      "pygments_lexer": "ipython3",
      "version": "3.12.1"
    },
    "colab": {
      "provenance": [],
      "include_colab_link": true
    }
  },
  "nbformat": 4,
  "nbformat_minor": 5
}