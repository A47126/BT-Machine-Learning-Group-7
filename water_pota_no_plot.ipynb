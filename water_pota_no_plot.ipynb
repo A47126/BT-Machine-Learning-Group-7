{
 "cells": [
  {
   "cell_type": "markdown",
   "id": "a52cdc15",
   "metadata": {},
   "source": [
    "# Import thư viện"
   ]
  },
  {
   "cell_type": "code",
   "execution_count": 68,
   "id": "ed2232f0",
   "metadata": {},
   "outputs": [
    {
     "data": {
      "text/html": [
       "<div>\n",
       "<style scoped>\n",
       "    .dataframe tbody tr th:only-of-type {\n",
       "        vertical-align: middle;\n",
       "    }\n",
       "\n",
       "    .dataframe tbody tr th {\n",
       "        vertical-align: top;\n",
       "    }\n",
       "\n",
       "    .dataframe thead th {\n",
       "        text-align: right;\n",
       "    }\n",
       "</style>\n",
       "<table border=\"1\" class=\"dataframe\">\n",
       "  <thead>\n",
       "    <tr style=\"text-align: right;\">\n",
       "      <th></th>\n",
       "      <th>ph</th>\n",
       "      <th>Hardness</th>\n",
       "      <th>Solids</th>\n",
       "      <th>Chloramines</th>\n",
       "      <th>Sulfate</th>\n",
       "      <th>Conductivity</th>\n",
       "      <th>Organic_carbon</th>\n",
       "      <th>Trihalomethanes</th>\n",
       "      <th>Turbidity</th>\n",
       "      <th>Potability</th>\n",
       "    </tr>\n",
       "  </thead>\n",
       "  <tbody>\n",
       "    <tr>\n",
       "      <th>0</th>\n",
       "      <td>NaN</td>\n",
       "      <td>204.890455</td>\n",
       "      <td>20791.318981</td>\n",
       "      <td>7.300212</td>\n",
       "      <td>368.516441</td>\n",
       "      <td>564.308654</td>\n",
       "      <td>10.379783</td>\n",
       "      <td>86.990970</td>\n",
       "      <td>2.963135</td>\n",
       "      <td>0</td>\n",
       "    </tr>\n",
       "    <tr>\n",
       "      <th>1</th>\n",
       "      <td>3.716080</td>\n",
       "      <td>129.422921</td>\n",
       "      <td>18630.057858</td>\n",
       "      <td>6.635246</td>\n",
       "      <td>NaN</td>\n",
       "      <td>592.885359</td>\n",
       "      <td>15.180013</td>\n",
       "      <td>56.329076</td>\n",
       "      <td>4.500656</td>\n",
       "      <td>0</td>\n",
       "    </tr>\n",
       "    <tr>\n",
       "      <th>2</th>\n",
       "      <td>8.099124</td>\n",
       "      <td>224.236259</td>\n",
       "      <td>19909.541732</td>\n",
       "      <td>9.275884</td>\n",
       "      <td>NaN</td>\n",
       "      <td>418.606213</td>\n",
       "      <td>16.868637</td>\n",
       "      <td>66.420093</td>\n",
       "      <td>3.055934</td>\n",
       "      <td>0</td>\n",
       "    </tr>\n",
       "    <tr>\n",
       "      <th>3</th>\n",
       "      <td>8.316766</td>\n",
       "      <td>214.373394</td>\n",
       "      <td>22018.417441</td>\n",
       "      <td>8.059332</td>\n",
       "      <td>356.886136</td>\n",
       "      <td>363.266516</td>\n",
       "      <td>18.436524</td>\n",
       "      <td>100.341674</td>\n",
       "      <td>4.628771</td>\n",
       "      <td>0</td>\n",
       "    </tr>\n",
       "    <tr>\n",
       "      <th>4</th>\n",
       "      <td>9.092223</td>\n",
       "      <td>181.101509</td>\n",
       "      <td>17978.986339</td>\n",
       "      <td>6.546600</td>\n",
       "      <td>310.135738</td>\n",
       "      <td>398.410813</td>\n",
       "      <td>11.558279</td>\n",
       "      <td>31.997993</td>\n",
       "      <td>4.075075</td>\n",
       "      <td>0</td>\n",
       "    </tr>\n",
       "  </tbody>\n",
       "</table>\n",
       "</div>"
      ],
      "text/plain": [
       "         ph    Hardness        Solids  Chloramines     Sulfate  Conductivity  \\\n",
       "0       NaN  204.890455  20791.318981     7.300212  368.516441    564.308654   \n",
       "1  3.716080  129.422921  18630.057858     6.635246         NaN    592.885359   \n",
       "2  8.099124  224.236259  19909.541732     9.275884         NaN    418.606213   \n",
       "3  8.316766  214.373394  22018.417441     8.059332  356.886136    363.266516   \n",
       "4  9.092223  181.101509  17978.986339     6.546600  310.135738    398.410813   \n",
       "\n",
       "   Organic_carbon  Trihalomethanes  Turbidity  Potability  \n",
       "0       10.379783        86.990970   2.963135           0  \n",
       "1       15.180013        56.329076   4.500656           0  \n",
       "2       16.868637        66.420093   3.055934           0  \n",
       "3       18.436524       100.341674   4.628771           0  \n",
       "4       11.558279        31.997993   4.075075           0  "
      ]
     },
     "execution_count": 68,
     "metadata": {},
     "output_type": "execute_result"
    }
   ],
   "source": [
    "# Thư viện cơ bản\n",
    "import numpy as np\n",
    "import pandas as pd\n",
    "\n",
    "# Bỏ qua các cảnh báo\n",
    "import warnings\n",
    "warnings.filterwarnings('ignore')\n",
    "\n",
    "from collections import Counter\n",
    "\n",
    "# Thư viện vẽ biểu đồ\n",
    "import matplotlib.pyplot as plt\n",
    "import seaborn as sns   \n",
    "\n",
    "# Thư viện tiền xử lý dữ liệu, tối ưu hóa mô hình\n",
    "from sklearn.preprocessing import StandardScaler\n",
    "from sklearn.model_selection import train_test_split, GridSearchCV\n",
    "\n",
    "# Thư viện xây dựng mô hình\n",
    "\n",
    "\n",
    "# Thư viện đánh giá mô hình\n",
    "from sklearn.metrics import classification_report, confusion_matrix, precision_recall_curve, roc_curve, auc\n",
    "\n",
    "df = pd.read_csv('water_potability.csv')\n",
    "df.head()"
   ]
  },
  {
   "cell_type": "code",
   "execution_count": 69,
   "id": "dfbebbc5",
   "metadata": {},
   "outputs": [
    {
     "name": "stdout",
     "output_type": "stream",
     "text": [
      "<class 'pandas.core.frame.DataFrame'>\n",
      "RangeIndex: 3276 entries, 0 to 3275\n",
      "Data columns (total 10 columns):\n",
      " #   Column           Non-Null Count  Dtype  \n",
      "---  ------           --------------  -----  \n",
      " 0   ph               2785 non-null   float64\n",
      " 1   Hardness         3276 non-null   float64\n",
      " 2   Solids           3276 non-null   float64\n",
      " 3   Chloramines      3276 non-null   float64\n",
      " 4   Sulfate          2495 non-null   float64\n",
      " 5   Conductivity     3276 non-null   float64\n",
      " 6   Organic_carbon   3276 non-null   float64\n",
      " 7   Trihalomethanes  3114 non-null   float64\n",
      " 8   Turbidity        3276 non-null   float64\n",
      " 9   Potability       3276 non-null   int64  \n",
      "dtypes: float64(9), int64(1)\n",
      "memory usage: 256.1 KB\n"
     ]
    }
   ],
   "source": [
    "df.info()"
   ]
  },
  {
   "cell_type": "code",
   "execution_count": 70,
   "id": "4866e1bd",
   "metadata": {},
   "outputs": [
    {
     "data": {
      "text/plain": [
       "0    1998\n",
       "1    1278\n",
       "Name: Potability, dtype: int64"
      ]
     },
     "execution_count": 70,
     "metadata": {},
     "output_type": "execute_result"
    }
   ],
   "source": [
    "df['Potability'].value_counts()\n",
    "# 0 - Không uống được\n",
    "# 1 - Uống được"
   ]
  },
  {
   "cell_type": "markdown",
   "id": "67dea522",
   "metadata": {},
   "source": [
    "# Tiền xử lý dữ liệu"
   ]
  },
  {
   "cell_type": "code",
   "execution_count": 71,
   "id": "ee35bcc5",
   "metadata": {},
   "outputs": [
    {
     "data": {
      "text/plain": [
       "ph                 491\n",
       "Hardness             0\n",
       "Solids               0\n",
       "Chloramines          0\n",
       "Sulfate            781\n",
       "Conductivity         0\n",
       "Organic_carbon       0\n",
       "Trihalomethanes    162\n",
       "Turbidity            0\n",
       "Potability           0\n",
       "dtype: int64"
      ]
     },
     "execution_count": 71,
     "metadata": {},
     "output_type": "execute_result"
    }
   ],
   "source": [
    "df.isnull().sum()"
   ]
  },
  {
   "cell_type": "code",
   "execution_count": 72,
   "id": "cef9f7db",
   "metadata": {},
   "outputs": [
    {
     "data": {
      "text/html": [
       "<div>\n",
       "<style scoped>\n",
       "    .dataframe tbody tr th:only-of-type {\n",
       "        vertical-align: middle;\n",
       "    }\n",
       "\n",
       "    .dataframe tbody tr th {\n",
       "        vertical-align: top;\n",
       "    }\n",
       "\n",
       "    .dataframe thead th {\n",
       "        text-align: right;\n",
       "    }\n",
       "</style>\n",
       "<table border=\"1\" class=\"dataframe\">\n",
       "  <thead>\n",
       "    <tr style=\"text-align: right;\">\n",
       "      <th></th>\n",
       "      <th>count</th>\n",
       "      <th>mean</th>\n",
       "      <th>std</th>\n",
       "      <th>min</th>\n",
       "      <th>25%</th>\n",
       "      <th>50%</th>\n",
       "      <th>75%</th>\n",
       "      <th>max</th>\n",
       "    </tr>\n",
       "  </thead>\n",
       "  <tbody>\n",
       "    <tr>\n",
       "      <th>ph</th>\n",
       "      <td>1684.0</td>\n",
       "      <td>7.085378</td>\n",
       "      <td>1.683499</td>\n",
       "      <td>0.000000</td>\n",
       "      <td>6.037723</td>\n",
       "      <td>7.035456</td>\n",
       "      <td>8.155510</td>\n",
       "      <td>14.000000</td>\n",
       "    </tr>\n",
       "    <tr>\n",
       "      <th>Hardness</th>\n",
       "      <td>1998.0</td>\n",
       "      <td>196.733292</td>\n",
       "      <td>31.057540</td>\n",
       "      <td>98.452931</td>\n",
       "      <td>177.823265</td>\n",
       "      <td>197.123423</td>\n",
       "      <td>216.120687</td>\n",
       "      <td>304.235912</td>\n",
       "    </tr>\n",
       "    <tr>\n",
       "      <th>Solids</th>\n",
       "      <td>1998.0</td>\n",
       "      <td>21777.490788</td>\n",
       "      <td>8543.068788</td>\n",
       "      <td>320.942611</td>\n",
       "      <td>15663.057382</td>\n",
       "      <td>20809.618280</td>\n",
       "      <td>27006.249009</td>\n",
       "      <td>61227.196008</td>\n",
       "    </tr>\n",
       "    <tr>\n",
       "      <th>Chloramines</th>\n",
       "      <td>1998.0</td>\n",
       "      <td>7.092175</td>\n",
       "      <td>1.501045</td>\n",
       "      <td>1.683993</td>\n",
       "      <td>6.155640</td>\n",
       "      <td>7.090334</td>\n",
       "      <td>8.066462</td>\n",
       "      <td>12.653362</td>\n",
       "    </tr>\n",
       "    <tr>\n",
       "      <th>Sulfate</th>\n",
       "      <td>1510.0</td>\n",
       "      <td>334.564290</td>\n",
       "      <td>36.745549</td>\n",
       "      <td>203.444521</td>\n",
       "      <td>311.264006</td>\n",
       "      <td>333.389426</td>\n",
       "      <td>356.853897</td>\n",
       "      <td>460.107069</td>\n",
       "    </tr>\n",
       "    <tr>\n",
       "      <th>Conductivity</th>\n",
       "      <td>1998.0</td>\n",
       "      <td>426.730454</td>\n",
       "      <td>80.047317</td>\n",
       "      <td>181.483754</td>\n",
       "      <td>368.498530</td>\n",
       "      <td>422.229331</td>\n",
       "      <td>480.677198</td>\n",
       "      <td>753.342620</td>\n",
       "    </tr>\n",
       "    <tr>\n",
       "      <th>Organic_carbon</th>\n",
       "      <td>1998.0</td>\n",
       "      <td>14.364335</td>\n",
       "      <td>3.334554</td>\n",
       "      <td>4.371899</td>\n",
       "      <td>12.101057</td>\n",
       "      <td>14.293508</td>\n",
       "      <td>16.649485</td>\n",
       "      <td>28.300000</td>\n",
       "    </tr>\n",
       "    <tr>\n",
       "      <th>Trihalomethanes</th>\n",
       "      <td>1891.0</td>\n",
       "      <td>66.303555</td>\n",
       "      <td>16.079320</td>\n",
       "      <td>0.738000</td>\n",
       "      <td>55.706530</td>\n",
       "      <td>66.542198</td>\n",
       "      <td>77.277704</td>\n",
       "      <td>120.030077</td>\n",
       "    </tr>\n",
       "    <tr>\n",
       "      <th>Turbidity</th>\n",
       "      <td>1998.0</td>\n",
       "      <td>3.965800</td>\n",
       "      <td>0.780282</td>\n",
       "      <td>1.450000</td>\n",
       "      <td>3.444062</td>\n",
       "      <td>3.948076</td>\n",
       "      <td>4.496106</td>\n",
       "      <td>6.739000</td>\n",
       "    </tr>\n",
       "    <tr>\n",
       "      <th>Potability</th>\n",
       "      <td>1998.0</td>\n",
       "      <td>0.000000</td>\n",
       "      <td>0.000000</td>\n",
       "      <td>0.000000</td>\n",
       "      <td>0.000000</td>\n",
       "      <td>0.000000</td>\n",
       "      <td>0.000000</td>\n",
       "      <td>0.000000</td>\n",
       "    </tr>\n",
       "  </tbody>\n",
       "</table>\n",
       "</div>"
      ],
      "text/plain": [
       "                  count          mean          std         min           25%  \\\n",
       "ph               1684.0      7.085378     1.683499    0.000000      6.037723   \n",
       "Hardness         1998.0    196.733292    31.057540   98.452931    177.823265   \n",
       "Solids           1998.0  21777.490788  8543.068788  320.942611  15663.057382   \n",
       "Chloramines      1998.0      7.092175     1.501045    1.683993      6.155640   \n",
       "Sulfate          1510.0    334.564290    36.745549  203.444521    311.264006   \n",
       "Conductivity     1998.0    426.730454    80.047317  181.483754    368.498530   \n",
       "Organic_carbon   1998.0     14.364335     3.334554    4.371899     12.101057   \n",
       "Trihalomethanes  1891.0     66.303555    16.079320    0.738000     55.706530   \n",
       "Turbidity        1998.0      3.965800     0.780282    1.450000      3.444062   \n",
       "Potability       1998.0      0.000000     0.000000    0.000000      0.000000   \n",
       "\n",
       "                          50%           75%           max  \n",
       "ph                   7.035456      8.155510     14.000000  \n",
       "Hardness           197.123423    216.120687    304.235912  \n",
       "Solids           20809.618280  27006.249009  61227.196008  \n",
       "Chloramines          7.090334      8.066462     12.653362  \n",
       "Sulfate            333.389426    356.853897    460.107069  \n",
       "Conductivity       422.229331    480.677198    753.342620  \n",
       "Organic_carbon      14.293508     16.649485     28.300000  \n",
       "Trihalomethanes     66.542198     77.277704    120.030077  \n",
       "Turbidity            3.948076      4.496106      6.739000  \n",
       "Potability           0.000000      0.000000      0.000000  "
      ]
     },
     "execution_count": 72,
     "metadata": {},
     "output_type": "execute_result"
    }
   ],
   "source": [
    "df[df['Potability'] == 0].describe().T"
   ]
  },
  {
   "cell_type": "code",
   "execution_count": 6,
   "id": "7b058904",
   "metadata": {},
   "outputs": [
    {
     "data": {
      "text/html": [
       "<div>\n",
       "<style scoped>\n",
       "    .dataframe tbody tr th:only-of-type {\n",
       "        vertical-align: middle;\n",
       "    }\n",
       "\n",
       "    .dataframe tbody tr th {\n",
       "        vertical-align: top;\n",
       "    }\n",
       "\n",
       "    .dataframe thead th {\n",
       "        text-align: right;\n",
       "    }\n",
       "</style>\n",
       "<table border=\"1\" class=\"dataframe\">\n",
       "  <thead>\n",
       "    <tr style=\"text-align: right;\">\n",
       "      <th></th>\n",
       "      <th>count</th>\n",
       "      <th>mean</th>\n",
       "      <th>std</th>\n",
       "      <th>min</th>\n",
       "      <th>25%</th>\n",
       "      <th>50%</th>\n",
       "      <th>75%</th>\n",
       "      <th>max</th>\n",
       "    </tr>\n",
       "  </thead>\n",
       "  <tbody>\n",
       "    <tr>\n",
       "      <th>ph</th>\n",
       "      <td>1101.0</td>\n",
       "      <td>7.073783</td>\n",
       "      <td>1.448048</td>\n",
       "      <td>0.227499</td>\n",
       "      <td>6.179312</td>\n",
       "      <td>7.036752</td>\n",
       "      <td>7.933068</td>\n",
       "      <td>13.175402</td>\n",
       "    </tr>\n",
       "    <tr>\n",
       "      <th>Hardness</th>\n",
       "      <td>1278.0</td>\n",
       "      <td>195.800744</td>\n",
       "      <td>35.547041</td>\n",
       "      <td>47.432000</td>\n",
       "      <td>174.330531</td>\n",
       "      <td>196.632907</td>\n",
       "      <td>218.003420</td>\n",
       "      <td>323.124000</td>\n",
       "    </tr>\n",
       "    <tr>\n",
       "      <th>Solids</th>\n",
       "      <td>1278.0</td>\n",
       "      <td>22383.991018</td>\n",
       "      <td>9101.010208</td>\n",
       "      <td>728.750830</td>\n",
       "      <td>15668.985035</td>\n",
       "      <td>21199.386614</td>\n",
       "      <td>27973.236446</td>\n",
       "      <td>56488.672413</td>\n",
       "    </tr>\n",
       "    <tr>\n",
       "      <th>Chloramines</th>\n",
       "      <td>1278.0</td>\n",
       "      <td>7.169338</td>\n",
       "      <td>1.702988</td>\n",
       "      <td>0.352000</td>\n",
       "      <td>6.094134</td>\n",
       "      <td>7.215163</td>\n",
       "      <td>8.199261</td>\n",
       "      <td>13.127000</td>\n",
       "    </tr>\n",
       "    <tr>\n",
       "      <th>Sulfate</th>\n",
       "      <td>985.0</td>\n",
       "      <td>332.566990</td>\n",
       "      <td>47.692818</td>\n",
       "      <td>129.000000</td>\n",
       "      <td>300.763772</td>\n",
       "      <td>331.838167</td>\n",
       "      <td>365.941346</td>\n",
       "      <td>481.030642</td>\n",
       "    </tr>\n",
       "    <tr>\n",
       "      <th>Conductivity</th>\n",
       "      <td>1278.0</td>\n",
       "      <td>425.383800</td>\n",
       "      <td>82.048446</td>\n",
       "      <td>201.619737</td>\n",
       "      <td>360.939023</td>\n",
       "      <td>420.712729</td>\n",
       "      <td>484.155911</td>\n",
       "      <td>695.369528</td>\n",
       "    </tr>\n",
       "    <tr>\n",
       "      <th>Organic_carbon</th>\n",
       "      <td>1278.0</td>\n",
       "      <td>14.160893</td>\n",
       "      <td>3.263907</td>\n",
       "      <td>2.200000</td>\n",
       "      <td>12.033897</td>\n",
       "      <td>14.162809</td>\n",
       "      <td>16.356245</td>\n",
       "      <td>23.604298</td>\n",
       "    </tr>\n",
       "    <tr>\n",
       "      <th>Trihalomethanes</th>\n",
       "      <td>1223.0</td>\n",
       "      <td>66.539684</td>\n",
       "      <td>16.327419</td>\n",
       "      <td>8.175876</td>\n",
       "      <td>56.014249</td>\n",
       "      <td>66.678214</td>\n",
       "      <td>77.380975</td>\n",
       "      <td>124.000000</td>\n",
       "    </tr>\n",
       "    <tr>\n",
       "      <th>Turbidity</th>\n",
       "      <td>1278.0</td>\n",
       "      <td>3.968328</td>\n",
       "      <td>0.780842</td>\n",
       "      <td>1.492207</td>\n",
       "      <td>3.430909</td>\n",
       "      <td>3.958576</td>\n",
       "      <td>4.509569</td>\n",
       "      <td>6.494249</td>\n",
       "    </tr>\n",
       "    <tr>\n",
       "      <th>Potability</th>\n",
       "      <td>1278.0</td>\n",
       "      <td>1.000000</td>\n",
       "      <td>0.000000</td>\n",
       "      <td>1.000000</td>\n",
       "      <td>1.000000</td>\n",
       "      <td>1.000000</td>\n",
       "      <td>1.000000</td>\n",
       "      <td>1.000000</td>\n",
       "    </tr>\n",
       "  </tbody>\n",
       "</table>\n",
       "</div>"
      ],
      "text/plain": [
       "                  count          mean          std         min           25%  \\\n",
       "ph               1101.0      7.073783     1.448048    0.227499      6.179312   \n",
       "Hardness         1278.0    195.800744    35.547041   47.432000    174.330531   \n",
       "Solids           1278.0  22383.991018  9101.010208  728.750830  15668.985035   \n",
       "Chloramines      1278.0      7.169338     1.702988    0.352000      6.094134   \n",
       "Sulfate           985.0    332.566990    47.692818  129.000000    300.763772   \n",
       "Conductivity     1278.0    425.383800    82.048446  201.619737    360.939023   \n",
       "Organic_carbon   1278.0     14.160893     3.263907    2.200000     12.033897   \n",
       "Trihalomethanes  1223.0     66.539684    16.327419    8.175876     56.014249   \n",
       "Turbidity        1278.0      3.968328     0.780842    1.492207      3.430909   \n",
       "Potability       1278.0      1.000000     0.000000    1.000000      1.000000   \n",
       "\n",
       "                          50%           75%           max  \n",
       "ph                   7.036752      7.933068     13.175402  \n",
       "Hardness           196.632907    218.003420    323.124000  \n",
       "Solids           21199.386614  27973.236446  56488.672413  \n",
       "Chloramines          7.215163      8.199261     13.127000  \n",
       "Sulfate            331.838167    365.941346    481.030642  \n",
       "Conductivity       420.712729    484.155911    695.369528  \n",
       "Organic_carbon      14.162809     16.356245     23.604298  \n",
       "Trihalomethanes     66.678214     77.380975    124.000000  \n",
       "Turbidity            3.958576      4.509569      6.494249  \n",
       "Potability           1.000000      1.000000      1.000000  "
      ]
     },
     "execution_count": 6,
     "metadata": {},
     "output_type": "execute_result"
    }
   ],
   "source": [
    "df[df['Potability'] == 1].describe().T"
   ]
  },
  {
   "cell_type": "code",
   "execution_count": 74,
   "id": "fb00020a",
   "metadata": {},
   "outputs": [
    {
     "name": "stdout",
     "output_type": "stream",
     "text": [
      "ph                   7.085378\n",
      "Sulfate            334.564290\n",
      "Trihalomethanes     66.303555\n",
      "dtype: float64\n",
      "\n",
      "\n",
      "ph                   7.035456\n",
      "Sulfate            333.389426\n",
      "Trihalomethanes     66.542198\n",
      "dtype: float64\n"
     ]
    }
   ],
   "source": [
    "# Xem trung bình, trung vị của 3 cột có giá trị null\n",
    "print(df[df['Potability']==0][['ph','Sulfate','Trihalomethanes']].mean()) \n",
    "print('\\n')\n",
    "print(df[df['Potability']==0][['ph','Sulfate','Trihalomethanes']].median())"
   ]
  },
  {
   "cell_type": "code",
   "execution_count": 75,
   "id": "ed793bb7",
   "metadata": {},
   "outputs": [
    {
     "name": "stdout",
     "output_type": "stream",
     "text": [
      "\n",
      "\n"
     ]
    },
    {
     "data": {
      "text/plain": [
       "ph                   7.036752\n",
       "Sulfate            331.838167\n",
       "Trihalomethanes     66.678214\n",
       "dtype: float64"
      ]
     },
     "execution_count": 75,
     "metadata": {},
     "output_type": "execute_result"
    }
   ],
   "source": [
    "df[df['Potability']==1][['ph','Sulfate','Trihalomethanes']].mean()\n",
    "print('\\n')\n",
    "df[df['Potability']==1][['ph','Sulfate','Trihalomethanes']].median()"
   ]
  },
  {
   "cell_type": "code",
   "execution_count": 76,
   "id": "1d4f902d",
   "metadata": {},
   "outputs": [],
   "source": [
    "# Điền ô null bằng trung vị\n",
    "df['ph'].fillna(value=df['ph'].median(),inplace=True)\n",
    "df['Sulfate'] = df.groupby('Potability')['Sulfate'].transform(lambda x: x.fillna(x.median()))\n",
    "df['Trihalomethanes'].fillna(value=df['Trihalomethanes'].median(),inplace=True)"
   ]
  },
  {
   "cell_type": "markdown",
   "id": "553db5d9",
   "metadata": {},
   "source": [
    "# Chuẩn hóa"
   ]
  },
  {
   "cell_type": "code",
   "execution_count": 77,
   "id": "a3f5f66f",
   "metadata": {},
   "outputs": [],
   "source": [
    "for cols in df.columns:\n",
    "    iqr = df[cols].quantile(0.75) - df[cols].quantile(0.25)\n",
    "    lower_bound = df[cols].quantile(0.25) - (1.5 * iqr)\n",
    "    upper_bound = df[cols].quantile(0.75) + (1.5 * iqr)\n",
    "    df[cols] = np.where(df[cols] > upper_bound, upper_bound, df[cols])\n",
    "    df[cols] = np.where(df[cols] < lower_bound, lower_bound, df[cols])"
   ]
  },
  {
   "cell_type": "code",
   "execution_count": 78,
   "id": "1a960c23",
   "metadata": {},
   "outputs": [],
   "source": [
    "X = df.drop('Potability',axis=1).values\n",
    "y = df['Potability'].values"
   ]
  },
  {
   "cell_type": "code",
   "execution_count": 79,
   "id": "93ed75bf",
   "metadata": {},
   "outputs": [],
   "source": [
    "X_train, X_test, y_train, y_test = train_test_split(X, y, test_size=0.3, random_state=42)"
   ]
  },
  {
   "cell_type": "code",
   "execution_count": 80,
   "id": "bc1ef883",
   "metadata": {},
   "outputs": [],
   "source": [
    "scaler = StandardScaler()\n",
    "X_train = scaler.fit_transform(X_train)\n",
    "X_test = scaler.transform(X_test)"
   ]
  },
  {
   "cell_type": "markdown",
   "id": "2f1027f6",
   "metadata": {},
   "source": [
    "# Mô hình 1: Bernoulli"
   ]
  },
  {
   "cell_type": "markdown",
   "id": "2c4f6fb2",
   "metadata": {},
   "source": [
    "# Chạy mô hình"
   ]
  },
  {
   "cell_type": "code",
   "execution_count": 93,
   "id": "adc8c5c9",
   "metadata": {},
   "outputs": [
    {
     "data": {
      "text/html": [
       "<style>#sk-container-id-10 {color: black;}#sk-container-id-10 pre{padding: 0;}#sk-container-id-10 div.sk-toggleable {background-color: white;}#sk-container-id-10 label.sk-toggleable__label {cursor: pointer;display: block;width: 100%;margin-bottom: 0;padding: 0.3em;box-sizing: border-box;text-align: center;}#sk-container-id-10 label.sk-toggleable__label-arrow:before {content: \"▸\";float: left;margin-right: 0.25em;color: #696969;}#sk-container-id-10 label.sk-toggleable__label-arrow:hover:before {color: black;}#sk-container-id-10 div.sk-estimator:hover label.sk-toggleable__label-arrow:before {color: black;}#sk-container-id-10 div.sk-toggleable__content {max-height: 0;max-width: 0;overflow: hidden;text-align: left;background-color: #f0f8ff;}#sk-container-id-10 div.sk-toggleable__content pre {margin: 0.2em;color: black;border-radius: 0.25em;background-color: #f0f8ff;}#sk-container-id-10 input.sk-toggleable__control:checked~div.sk-toggleable__content {max-height: 200px;max-width: 100%;overflow: auto;}#sk-container-id-10 input.sk-toggleable__control:checked~label.sk-toggleable__label-arrow:before {content: \"▾\";}#sk-container-id-10 div.sk-estimator input.sk-toggleable__control:checked~label.sk-toggleable__label {background-color: #d4ebff;}#sk-container-id-10 div.sk-label input.sk-toggleable__control:checked~label.sk-toggleable__label {background-color: #d4ebff;}#sk-container-id-10 input.sk-hidden--visually {border: 0;clip: rect(1px 1px 1px 1px);clip: rect(1px, 1px, 1px, 1px);height: 1px;margin: -1px;overflow: hidden;padding: 0;position: absolute;width: 1px;}#sk-container-id-10 div.sk-estimator {font-family: monospace;background-color: #f0f8ff;border: 1px dotted black;border-radius: 0.25em;box-sizing: border-box;margin-bottom: 0.5em;}#sk-container-id-10 div.sk-estimator:hover {background-color: #d4ebff;}#sk-container-id-10 div.sk-parallel-item::after {content: \"\";width: 100%;border-bottom: 1px solid gray;flex-grow: 1;}#sk-container-id-10 div.sk-label:hover label.sk-toggleable__label {background-color: #d4ebff;}#sk-container-id-10 div.sk-serial::before {content: \"\";position: absolute;border-left: 1px solid gray;box-sizing: border-box;top: 0;bottom: 0;left: 50%;z-index: 0;}#sk-container-id-10 div.sk-serial {display: flex;flex-direction: column;align-items: center;background-color: white;padding-right: 0.2em;padding-left: 0.2em;position: relative;}#sk-container-id-10 div.sk-item {position: relative;z-index: 1;}#sk-container-id-10 div.sk-parallel {display: flex;align-items: stretch;justify-content: center;background-color: white;position: relative;}#sk-container-id-10 div.sk-item::before, #sk-container-id-10 div.sk-parallel-item::before {content: \"\";position: absolute;border-left: 1px solid gray;box-sizing: border-box;top: 0;bottom: 0;left: 50%;z-index: -1;}#sk-container-id-10 div.sk-parallel-item {display: flex;flex-direction: column;z-index: 1;position: relative;background-color: white;}#sk-container-id-10 div.sk-parallel-item:first-child::after {align-self: flex-end;width: 50%;}#sk-container-id-10 div.sk-parallel-item:last-child::after {align-self: flex-start;width: 50%;}#sk-container-id-10 div.sk-parallel-item:only-child::after {width: 0;}#sk-container-id-10 div.sk-dashed-wrapped {border: 1px dashed gray;margin: 0 0.4em 0.5em 0.4em;box-sizing: border-box;padding-bottom: 0.4em;background-color: white;}#sk-container-id-10 div.sk-label label {font-family: monospace;font-weight: bold;display: inline-block;line-height: 1.2em;}#sk-container-id-10 div.sk-label-container {text-align: center;}#sk-container-id-10 div.sk-container {/* jupyter's `normalize.less` sets `[hidden] { display: none; }` but bootstrap.min.css set `[hidden] { display: none !important; }` so we also need the `!important` here to be able to override the default hidden behavior on the sphinx rendered scikit-learn.org. See: https://github.com/scikit-learn/scikit-learn/issues/21755 */display: inline-block !important;position: relative;}#sk-container-id-10 div.sk-text-repr-fallback {display: none;}</style><div id=\"sk-container-id-10\" class=\"sk-top-container\"><div class=\"sk-text-repr-fallback\"><pre>BernoulliNB()</pre><b>In a Jupyter environment, please rerun this cell to show the HTML representation or trust the notebook. <br />On GitHub, the HTML representation is unable to render, please try loading this page with nbviewer.org.</b></div><div class=\"sk-container\" hidden><div class=\"sk-item\"><div class=\"sk-estimator sk-toggleable\"><input class=\"sk-toggleable__control sk-hidden--visually\" id=\"sk-estimator-id-22\" type=\"checkbox\" checked><label for=\"sk-estimator-id-22\" class=\"sk-toggleable__label sk-toggleable__label-arrow\">BernoulliNB</label><div class=\"sk-toggleable__content\"><pre>BernoulliNB()</pre></div></div></div></div></div>"
      ],
      "text/plain": [
       "BernoulliNB()"
      ]
     },
     "execution_count": 93,
     "metadata": {},
     "output_type": "execute_result"
    }
   ],
   "source": [
    "bernoulli_model = BernoulliNB()\n",
    "bernoulli_model.fit(X_train, y_train)"
   ]
  },
  {
   "cell_type": "code",
   "execution_count": 82,
   "id": "aa328e79",
   "metadata": {},
   "outputs": [],
   "source": [
    "y_pred_bernoulli = bernoulli_model.predict(X_test)"
   ]
  },
  {
   "cell_type": "code",
   "execution_count": 83,
   "id": "639bc1c9",
   "metadata": {},
   "outputs": [
    {
     "name": "stdout",
     "output_type": "stream",
     "text": [
      "              precision    recall  f1-score   support\n",
      "\n",
      "         0.0       0.63      1.00      0.77       617\n",
      "         1.0       0.00      0.00      0.00       366\n",
      "\n",
      "    accuracy                           0.63       983\n",
      "   macro avg       0.31      0.50      0.39       983\n",
      "weighted avg       0.39      0.63      0.48       983\n",
      "\n"
     ]
    }
   ],
   "source": [
    "print(classification_report(y_test, y_pred_bernoulli))\n"
   ]
  },
  {
   "cell_type": "code",
   "execution_count": 84,
   "id": "04fd67f0",
   "metadata": {},
   "outputs": [
    {
     "name": "stdout",
     "output_type": "stream",
     "text": [
      "[[617   0]\n",
      " [366   0]]\n"
     ]
    }
   ],
   "source": [
    "print(confusion_matrix(y_test, y_pred_bernoulli))"
   ]
  },
  {
   "cell_type": "markdown",
   "id": "14658032",
   "metadata": {},
   "source": [
    "# Tối ưu mô hình"
   ]
  },
  {
   "cell_type": "code",
   "execution_count": 86,
   "id": "b98161c4",
   "metadata": {},
   "outputs": [],
   "source": [
    "param_grid_bernoulli = {\n",
    "    'alpha': [0.1, 0.5, 1.0, 2.0, 5.0], \n",
    "    'binarize': [0.0, 0.5, 1.0],         \n",
    "    'fit_prior': [True, False]            \n",
    "}"
   ]
  },
  {
   "cell_type": "code",
   "execution_count": 107,
   "id": "3860428f",
   "metadata": {},
   "outputs": [
    {
     "name": "stdout",
     "output_type": "stream",
     "text": [
      "Fitting 5 folds for each of 30 candidates, totalling 150 fits\n"
     ]
    },
    {
     "data": {
      "text/html": [
       "<style>#sk-container-id-11 {color: black;}#sk-container-id-11 pre{padding: 0;}#sk-container-id-11 div.sk-toggleable {background-color: white;}#sk-container-id-11 label.sk-toggleable__label {cursor: pointer;display: block;width: 100%;margin-bottom: 0;padding: 0.3em;box-sizing: border-box;text-align: center;}#sk-container-id-11 label.sk-toggleable__label-arrow:before {content: \"▸\";float: left;margin-right: 0.25em;color: #696969;}#sk-container-id-11 label.sk-toggleable__label-arrow:hover:before {color: black;}#sk-container-id-11 div.sk-estimator:hover label.sk-toggleable__label-arrow:before {color: black;}#sk-container-id-11 div.sk-toggleable__content {max-height: 0;max-width: 0;overflow: hidden;text-align: left;background-color: #f0f8ff;}#sk-container-id-11 div.sk-toggleable__content pre {margin: 0.2em;color: black;border-radius: 0.25em;background-color: #f0f8ff;}#sk-container-id-11 input.sk-toggleable__control:checked~div.sk-toggleable__content {max-height: 200px;max-width: 100%;overflow: auto;}#sk-container-id-11 input.sk-toggleable__control:checked~label.sk-toggleable__label-arrow:before {content: \"▾\";}#sk-container-id-11 div.sk-estimator input.sk-toggleable__control:checked~label.sk-toggleable__label {background-color: #d4ebff;}#sk-container-id-11 div.sk-label input.sk-toggleable__control:checked~label.sk-toggleable__label {background-color: #d4ebff;}#sk-container-id-11 input.sk-hidden--visually {border: 0;clip: rect(1px 1px 1px 1px);clip: rect(1px, 1px, 1px, 1px);height: 1px;margin: -1px;overflow: hidden;padding: 0;position: absolute;width: 1px;}#sk-container-id-11 div.sk-estimator {font-family: monospace;background-color: #f0f8ff;border: 1px dotted black;border-radius: 0.25em;box-sizing: border-box;margin-bottom: 0.5em;}#sk-container-id-11 div.sk-estimator:hover {background-color: #d4ebff;}#sk-container-id-11 div.sk-parallel-item::after {content: \"\";width: 100%;border-bottom: 1px solid gray;flex-grow: 1;}#sk-container-id-11 div.sk-label:hover label.sk-toggleable__label {background-color: #d4ebff;}#sk-container-id-11 div.sk-serial::before {content: \"\";position: absolute;border-left: 1px solid gray;box-sizing: border-box;top: 0;bottom: 0;left: 50%;z-index: 0;}#sk-container-id-11 div.sk-serial {display: flex;flex-direction: column;align-items: center;background-color: white;padding-right: 0.2em;padding-left: 0.2em;position: relative;}#sk-container-id-11 div.sk-item {position: relative;z-index: 1;}#sk-container-id-11 div.sk-parallel {display: flex;align-items: stretch;justify-content: center;background-color: white;position: relative;}#sk-container-id-11 div.sk-item::before, #sk-container-id-11 div.sk-parallel-item::before {content: \"\";position: absolute;border-left: 1px solid gray;box-sizing: border-box;top: 0;bottom: 0;left: 50%;z-index: -1;}#sk-container-id-11 div.sk-parallel-item {display: flex;flex-direction: column;z-index: 1;position: relative;background-color: white;}#sk-container-id-11 div.sk-parallel-item:first-child::after {align-self: flex-end;width: 50%;}#sk-container-id-11 div.sk-parallel-item:last-child::after {align-self: flex-start;width: 50%;}#sk-container-id-11 div.sk-parallel-item:only-child::after {width: 0;}#sk-container-id-11 div.sk-dashed-wrapped {border: 1px dashed gray;margin: 0 0.4em 0.5em 0.4em;box-sizing: border-box;padding-bottom: 0.4em;background-color: white;}#sk-container-id-11 div.sk-label label {font-family: monospace;font-weight: bold;display: inline-block;line-height: 1.2em;}#sk-container-id-11 div.sk-label-container {text-align: center;}#sk-container-id-11 div.sk-container {/* jupyter's `normalize.less` sets `[hidden] { display: none; }` but bootstrap.min.css set `[hidden] { display: none !important; }` so we also need the `!important` here to be able to override the default hidden behavior on the sphinx rendered scikit-learn.org. See: https://github.com/scikit-learn/scikit-learn/issues/21755 */display: inline-block !important;position: relative;}#sk-container-id-11 div.sk-text-repr-fallback {display: none;}</style><div id=\"sk-container-id-11\" class=\"sk-top-container\"><div class=\"sk-text-repr-fallback\"><pre>GridSearchCV(cv=5, estimator=BernoulliNB(), n_jobs=-1,\n",
       "             param_grid={&#x27;alpha&#x27;: [0.1, 0.5, 1.0, 2.0, 5.0],\n",
       "                         &#x27;binarize&#x27;: [0.0, 0.5, 1.0],\n",
       "                         &#x27;fit_prior&#x27;: [True, False]},\n",
       "             scoring=&#x27;precision&#x27;, verbose=1)</pre><b>In a Jupyter environment, please rerun this cell to show the HTML representation or trust the notebook. <br />On GitHub, the HTML representation is unable to render, please try loading this page with nbviewer.org.</b></div><div class=\"sk-container\" hidden><div class=\"sk-item sk-dashed-wrapped\"><div class=\"sk-label-container\"><div class=\"sk-label sk-toggleable\"><input class=\"sk-toggleable__control sk-hidden--visually\" id=\"sk-estimator-id-23\" type=\"checkbox\" ><label for=\"sk-estimator-id-23\" class=\"sk-toggleable__label sk-toggleable__label-arrow\">GridSearchCV</label><div class=\"sk-toggleable__content\"><pre>GridSearchCV(cv=5, estimator=BernoulliNB(), n_jobs=-1,\n",
       "             param_grid={&#x27;alpha&#x27;: [0.1, 0.5, 1.0, 2.0, 5.0],\n",
       "                         &#x27;binarize&#x27;: [0.0, 0.5, 1.0],\n",
       "                         &#x27;fit_prior&#x27;: [True, False]},\n",
       "             scoring=&#x27;precision&#x27;, verbose=1)</pre></div></div></div><div class=\"sk-parallel\"><div class=\"sk-parallel-item\"><div class=\"sk-item\"><div class=\"sk-label-container\"><div class=\"sk-label sk-toggleable\"><input class=\"sk-toggleable__control sk-hidden--visually\" id=\"sk-estimator-id-24\" type=\"checkbox\" ><label for=\"sk-estimator-id-24\" class=\"sk-toggleable__label sk-toggleable__label-arrow\">estimator: BernoulliNB</label><div class=\"sk-toggleable__content\"><pre>BernoulliNB()</pre></div></div></div><div class=\"sk-serial\"><div class=\"sk-item\"><div class=\"sk-estimator sk-toggleable\"><input class=\"sk-toggleable__control sk-hidden--visually\" id=\"sk-estimator-id-25\" type=\"checkbox\" ><label for=\"sk-estimator-id-25\" class=\"sk-toggleable__label sk-toggleable__label-arrow\">BernoulliNB</label><div class=\"sk-toggleable__content\"><pre>BernoulliNB()</pre></div></div></div></div></div></div></div></div></div></div>"
      ],
      "text/plain": [
       "GridSearchCV(cv=5, estimator=BernoulliNB(), n_jobs=-1,\n",
       "             param_grid={'alpha': [0.1, 0.5, 1.0, 2.0, 5.0],\n",
       "                         'binarize': [0.0, 0.5, 1.0],\n",
       "                         'fit_prior': [True, False]},\n",
       "             scoring='precision', verbose=1)"
      ]
     },
     "execution_count": 107,
     "metadata": {},
     "output_type": "execute_result"
    }
   ],
   "source": [
    "grid_search_bernoulli = GridSearchCV(estimator=bernoulli_model, param_grid=param_grid_bernoulli, cv=5, scoring='precision', n_jobs=-1, verbose=1)\n",
    "grid_search_bernoulli.fit(X_train, y_train)"
   ]
  },
  {
   "cell_type": "code",
   "execution_count": 108,
   "id": "479cec4e",
   "metadata": {},
   "outputs": [
    {
     "data": {
      "text/plain": [
       "{'alpha': 0.1, 'binarize': 1.0, 'fit_prior': True}"
      ]
     },
     "execution_count": 108,
     "metadata": {},
     "output_type": "execute_result"
    }
   ],
   "source": [
    "grid_search_bernoulli.best_params_"
   ]
  },
  {
   "cell_type": "code",
   "execution_count": 129,
   "id": "395aed10",
   "metadata": {},
   "outputs": [],
   "source": [
    "threshold = np.arange(0.01, 0.91, 0.05)\n",
    "res = []"
   ]
  },
  {
   "cell_type": "code",
   "execution_count": 130,
   "id": "7a22b573",
   "metadata": {},
   "outputs": [],
   "source": [
    "for t in threshold:\n",
    "    y_pred = (y_proba >= t).astype(int)\n",
    "    tn, fp, fn, tp = confusion_matrix(y_test, y_pred).ravel()\n",
    "    res.append((t, fp, fn, tp, tn))"
   ]
  },
  {
   "cell_type": "code",
   "execution_count": 131,
   "id": "f6cb9d7b",
   "metadata": {},
   "outputs": [],
   "source": [
    "df_thresh = pd.DataFrame(res, columns=['Threshold', 'FP', 'FN', 'TP', 'TN'])\n",
    "df_thresh['Precision'] = df_thresh['TP'] / (df_thresh['TP'] + df_thresh['FP'])\n",
    "df_thresh['Recall'] = df_thresh['TP'] / (df_thresh['TP'] + df_thresh['FN'])"
   ]
  },
  {
   "cell_type": "code",
   "execution_count": 132,
   "id": "af044827",
   "metadata": {},
   "outputs": [
    {
     "data": {
      "image/png": "[encoded data removed]",
      "text/plain": [
       "<Figure size 1000x600 with 1 Axes>"
      ]
     },
     "metadata": {},
     "output_type": "display_data"
    }
   ],
   "source": [
    "plt.figure(figsize=(10,6))\n",
    "plt.plot(df_thresh[\"Threshold\"], df_thresh[\"FP\"], label=\"False Positives\", color=\"red\")\n",
    "plt.plot(df_thresh[\"Threshold\"], df_thresh[\"FN\"], label=\"False Negatives\", color=\"blue\")\n",
    "plt.axhline(100, color='red', linestyle='--')\n",
    "plt.axhline(30, color='blue', linestyle='--')\n",
    "plt.xlabel(\"Threshold\")\n",
    "plt.ylabel(\"Count\")\n",
    "plt.title(\"FP & FN vs Threshold\")\n",
    "plt.legend()\n",
    "plt.grid()\n",
    "plt.show()\n",
    "\n",
    "# Vẽ biểu đồ ngưỡng FP và FN theo Threshold"
   ]
  },
  {
   "cell_type": "code",
   "execution_count": 98,
   "id": "d62c2a0e",
   "metadata": {},
   "outputs": [
    {
     "data": {
      "image/png": "[encoded data removed]",
      "text/plain": [
       "<Figure size 1000x600 with 1 Axes>"
      ]
     },
     "metadata": {},
     "output_type": "display_data"
    }
   ],
   "source": [
    "plt.figure(figsize=(10,6))\n",
    "plt.plot(df_thresh[\"Threshold\"], df_thresh[\"FP\"], label=\"False Positives\", color=\"red\")\n",
    "plt.plot(df_thresh[\"Threshold\"], df_thresh[\"FN\"], label=\"False Negatives\", color=\"blue\")\n",
    "plt.axhline(100, color='red', linestyle='--')\n",
    "plt.axhline(30, color='blue', linestyle='--')\n",
    "plt.xlabel(\"Threshold\")\n",
    "plt.ylabel(\"Count\")\n",
    "plt.title(\"FP & FN vs Threshold\")\n",
    "plt.legend()\n",
    "plt.grid()\n",
    "plt.show()"
   ]
  },
  {
   "cell_type": "code",
   "execution_count": 144,
   "id": "7e555160",
   "metadata": {},
   "outputs": [],
   "source": [
    "y_pred_best = (y_proba >= 0.45).astype(int)"
   ]
  },
  {
   "cell_type": "code",
   "execution_count": 145,
   "id": "f285f491",
   "metadata": {},
   "outputs": [
    {
     "name": "stdout",
     "output_type": "stream",
     "text": [
      "              precision    recall  f1-score   support\n",
      "\n",
      "         0.0       0.66      0.90      0.76       617\n",
      "         1.0       0.54      0.20      0.29       366\n",
      "\n",
      "    accuracy                           0.64       983\n",
      "   macro avg       0.60      0.55      0.53       983\n",
      "weighted avg       0.61      0.64      0.59       983\n",
      "\n"
     ]
    }
   ],
   "source": [
    "print(classification_report(y_test, y_pred_best))"
   ]
  },
  {
   "cell_type": "code",
   "execution_count": 146,
   "id": "d186fef8",
   "metadata": {},
   "outputs": [
    {
     "name": "stdout",
     "output_type": "stream",
     "text": [
      "[[555  62]\n",
      " [292  74]]\n"
     ]
    }
   ],
   "source": [
    "print(confusion_matrix(y_test, y_pred_best))"
   ]
  },
  {
   "cell_type": "code",
   "execution_count": 149,
   "id": "72d5f98b",
   "metadata": {},
   "outputs": [
    {
     "data": {
      "image/png": "[encoded data removed]",
      "text/plain": [
       "<Figure size 800x600 with 1 Axes>"
      ]
     },
     "metadata": {},
     "output_type": "display_data"
    }
   ],
   "source": [
    "fpr, tpr, thresholds = roc_curve(y_test, y_proba)\n",
    "roc_auc = auc(fpr, tpr)\n",
    "\n",
    "plt.figure(figsize=(8, 6))\n",
    "plt.plot(fpr, tpr, color='blue', lw=2, label='AUC = %0.2f' % roc_auc)\n",
    "plt.plot([0, 1], [0, 1], color='gray', lw=2, linestyle='--')  # đường random guess\n",
    "plt.xlim([0.0, 1.0])\n",
    "plt.ylim([0.0, 1.05])\n",
    "plt.xlabel('False Positive Rate')\n",
    "plt.ylabel('True Positive Rate')\n",
    "plt.title('Receiver Operating Characteristic (ROC) Curve')\n",
    "plt.legend(loc='lower right')\n",
    "plt.grid(True)\n",
    "plt.show()"
   ]
  },
  {
   "cell_type": "markdown",
   "id": "32ab9b45",
   "metadata": {},
   "source": [
    "# Push code"
   ]
  },
  {
   "cell_type": "code",
   "execution_count": null,
   "id": "ad2c0b02",
   "metadata": {},
   "outputs": [],
   "source": [
    "# git add .\n",
    "# git commit -m \"Ghi chú\"\n",
    "# git push origin (tên nhánh)"
   ]
  }
 ],
 "metadata": {
  "kernelspec": {
   "display_name": "base",
   "language": "python",
   "name": "python3"
  },
  "language_info": {
   "codemirror_mode": {
    "name": "ipython",
    "version": 3
   },
   "file_extension": ".py",
   "mimetype": "text/x-python",
   "name": "python",
   "nbconvert_exporter": "python",
   "pygments_lexer": "ipython3",
   "version": "3.11.4"
  }
 },
 "nbformat": 4,
 "nbformat_minor": 5
}
