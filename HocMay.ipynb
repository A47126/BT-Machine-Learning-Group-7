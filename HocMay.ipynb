{
 "cells": [
  {
   "cell_type": "code",
   "execution_count": 5,
   "id": "2b97d7fb",
   "metadata": {},
   "outputs": [
    {
     "data": {
      "text/html": [
       "<div>\n",
       "<style scoped>\n",
       "    .dataframe tbody tr th:only-of-type {\n",
       "        vertical-align: middle;\n",
       "    }\n",
       "\n",
       "    .dataframe tbody tr th {\n",
       "        vertical-align: top;\n",
       "    }\n",
       "\n",
       "    .dataframe thead th {\n",
       "        text-align: right;\n",
       "    }\n",
       "</style>\n",
       "<table border=\"1\" class=\"dataframe\">\n",
       "  <thead>\n",
       "    <tr style=\"text-align: right;\">\n",
       "      <th></th>\n",
       "      <th>Thời tiết</th>\n",
       "      <th>Sức gió</th>\n",
       "      <th>Độ ẩm</th>\n",
       "      <th>Kết quả</th>\n",
       "    </tr>\n",
       "  </thead>\n",
       "  <tbody>\n",
       "    <tr>\n",
       "      <th>0</th>\n",
       "      <td>Mưa</td>\n",
       "      <td>Mạnh</td>\n",
       "      <td>Cao</td>\n",
       "      <td>Không</td>\n",
       "    </tr>\n",
       "    <tr>\n",
       "      <th>1</th>\n",
       "      <td>Mưa</td>\n",
       "      <td>Yếu</td>\n",
       "      <td>Trung bình</td>\n",
       "      <td>Không</td>\n",
       "    </tr>\n",
       "    <tr>\n",
       "      <th>2</th>\n",
       "      <td>Nắng</td>\n",
       "      <td>Bình thường</td>\n",
       "      <td>Trung bình</td>\n",
       "      <td>Không</td>\n",
       "    </tr>\n",
       "    <tr>\n",
       "      <th>3</th>\n",
       "      <td>Âm u</td>\n",
       "      <td>Bình thường</td>\n",
       "      <td>Thấp</td>\n",
       "      <td>Có</td>\n",
       "    </tr>\n",
       "    <tr>\n",
       "      <th>4</th>\n",
       "      <td>Nắng</td>\n",
       "      <td>Mạnh</td>\n",
       "      <td>Thấp</td>\n",
       "      <td>Không</td>\n",
       "    </tr>\n",
       "    <tr>\n",
       "      <th>5</th>\n",
       "      <td>Mưa</td>\n",
       "      <td>Mạnh</td>\n",
       "      <td>Cao</td>\n",
       "      <td>Không</td>\n",
       "    </tr>\n",
       "    <tr>\n",
       "      <th>6</th>\n",
       "      <td>Âm u</td>\n",
       "      <td>Yếu</td>\n",
       "      <td>Cao</td>\n",
       "      <td>Có</td>\n",
       "    </tr>\n",
       "    <tr>\n",
       "      <th>7</th>\n",
       "      <td>Nắng</td>\n",
       "      <td>Bình thường</td>\n",
       "      <td>Trung bình</td>\n",
       "      <td>Không</td>\n",
       "    </tr>\n",
       "    <tr>\n",
       "      <th>8</th>\n",
       "      <td>Nắng</td>\n",
       "      <td>Yếu</td>\n",
       "      <td>Thấp</td>\n",
       "      <td>Có</td>\n",
       "    </tr>\n",
       "    <tr>\n",
       "      <th>9</th>\n",
       "      <td>Mưa</td>\n",
       "      <td>Yếu</td>\n",
       "      <td>Trung bình</td>\n",
       "      <td>Có</td>\n",
       "    </tr>\n",
       "    <tr>\n",
       "      <th>10</th>\n",
       "      <td>Âm u</td>\n",
       "      <td>Bình thường</td>\n",
       "      <td>Trung bình</td>\n",
       "      <td>Có</td>\n",
       "    </tr>\n",
       "    <tr>\n",
       "      <th>11</th>\n",
       "      <td>Nắng</td>\n",
       "      <td>Yếu</td>\n",
       "      <td>Thấp</td>\n",
       "      <td>Không</td>\n",
       "    </tr>\n",
       "    <tr>\n",
       "      <th>12</th>\n",
       "      <td>Mưa</td>\n",
       "      <td>Yếu</td>\n",
       "      <td>Thấp</td>\n",
       "      <td>Có</td>\n",
       "    </tr>\n",
       "  </tbody>\n",
       "</table>\n",
       "</div>"
      ],
      "text/plain": [
       "   Thời tiết      Sức gió       Độ ẩm Kết quả\n",
       "0        Mưa         Mạnh         Cao   Không\n",
       "1        Mưa          Yếu  Trung bình   Không\n",
       "2       Nắng  Bình thường  Trung bình   Không\n",
       "3       Âm u  Bình thường        Thấp      Có\n",
       "4       Nắng         Mạnh        Thấp   Không\n",
       "5        Mưa         Mạnh         Cao   Không\n",
       "6       Âm u          Yếu         Cao      Có\n",
       "7       Nắng  Bình thường  Trung bình   Không\n",
       "8       Nắng          Yếu        Thấp      Có\n",
       "9        Mưa          Yếu  Trung bình      Có\n",
       "10      Âm u  Bình thường  Trung bình      Có\n",
       "11      Nắng          Yếu        Thấp   Không\n",
       "12       Mưa          Yếu        Thấp      Có"
      ]
     },
     "execution_count": 5,
     "metadata": {},
     "output_type": "execute_result"
    }
   ],
   "source": [
    "import pandas as pd\n",
    "\n",
    "df = pd.read_excel('data.xlsx')\n",
    "df"
   ]
  },
  {
   "cell_type": "code",
   "execution_count": 7,
   "id": "ab747825",
   "metadata": {},
   "outputs": [
    {
     "data": {
      "text/plain": [
       "2"
      ]
     },
     "execution_count": 7,
     "metadata": {},
     "output_type": "execute_result"
    }
   ],
   "source": [
    "num_class = df['Kết quả'].nunique()\n",
    "num_class"
   ]
  },
  {
   "cell_type": "code",
   "execution_count": 9,
   "id": "7a26b493",
   "metadata": {},
   "outputs": [
    {
     "data": {
      "text/plain": [
       "7"
      ]
     },
     "execution_count": 9,
     "metadata": {},
     "output_type": "execute_result"
    }
   ],
   "source": [
    "class_no = df[df['Kết quả'] == 'Không'].shape[0]\n",
    "class_no"
   ]
  },
  {
   "cell_type": "code",
   "execution_count": 10,
   "id": "95f22504",
   "metadata": {},
   "outputs": [
    {
     "data": {
      "text/plain": [
       "6"
      ]
     },
     "execution_count": 10,
     "metadata": {},
     "output_type": "execute_result"
    }
   ],
   "source": [
    "class_yes = df[df['Kết quả'] == 'Có'].shape[0]\n",
    "class_yes"
   ]
  },
  {
   "cell_type": "code",
   "execution_count": 37,
   "id": "d96b9897",
   "metadata": {},
   "outputs": [],
   "source": [
    "def b1(df:pd.DataFrame):\n",
    "    res = {}\n",
    "    arr_class = df['Kết quả'].unique()\n",
    "    for c in arr_class:\n",
    "        res[c] = df[df['Kết quả'] == c]['Kết quả'].count() / df['Kết quả'].count()\n",
    "    return res"
   ]
  },
  {
   "cell_type": "code",
   "execution_count": 38,
   "id": "be63c327",
   "metadata": {},
   "outputs": [
    {
     "data": {
      "text/plain": [
       "{'Không': 0.5384615384615384, 'Có': 0.46153846153846156}"
      ]
     },
     "execution_count": 38,
     "metadata": {},
     "output_type": "execute_result"
    }
   ],
   "source": [
    "b1(df)"
   ]
  },
  {
   "cell_type": "code",
   "execution_count": 39,
   "id": "ff81252b",
   "metadata": {},
   "outputs": [],
   "source": [
    "def b2(df: pd.DataFrame): \n",
    "    res = {}\n",
    "    label_col = 'Kết quả'\n",
    "    arr_class = df[label_col].unique()\n",
    "\n",
    "    for c in arr_class:\n",
    "        filtered_df = df[df[label_col] == c]\n",
    "        label_prob = {}\n",
    "\n",
    "        for col in df.columns:\n",
    "            if col == label_col:\n",
    "                continue\n",
    "            value_counts = filtered_df[col].value_counts(normalize = 'True')\n",
    "            label_prob[col] = value_counts.to_dict()\n",
    "\n",
    "        res[c] = label_prob\n",
    "\n",
    "    return res\n"
   ]
  },
  {
   "cell_type": "code",
   "execution_count": 40,
   "id": "877c581f",
   "metadata": {
    "scrolled": true
   },
   "outputs": [
    {
     "data": {
      "text/plain": [
       "{'Không': {'Thời tiết': {'Nắng': 0.5714285714285714,\n",
       "   'Mưa': 0.42857142857142855},\n",
       "  'Sức gió': {'Mạnh': 0.42857142857142855,\n",
       "   'Yếu': 0.2857142857142857,\n",
       "   'Bình thường': 0.2857142857142857},\n",
       "  'Độ ẩm': {'Trung bình': 0.42857142857142855,\n",
       "   'Cao': 0.2857142857142857,\n",
       "   'Thấp': 0.2857142857142857}},\n",
       " 'Có': {'Thời tiết': {'Âm u': 0.5,\n",
       "   'Mưa': 0.3333333333333333,\n",
       "   'Nắng': 0.16666666666666666},\n",
       "  'Sức gió': {'Yếu': 0.6666666666666666, 'Bình thường': 0.3333333333333333},\n",
       "  'Độ ẩm': {'Thấp': 0.5,\n",
       "   'Trung bình': 0.3333333333333333,\n",
       "   'Cao': 0.16666666666666666}}}"
      ]
     },
     "execution_count": 40,
     "metadata": {},
     "output_type": "execute_result"
    }
   ],
   "source": [
    "b2(df)"
   ]
  },
  {
   "cell_type": "code",
   "execution_count": null,
   "id": "e7997350",
   "metadata": {},
   "outputs": [],
   "source": [
    "def b3(df: pd.DataFrame):\n",
    "    res = {}\n",
    "    arr_class = df['Kết quả'].unique()\n",
    "    \n",
    "    for "
   ]
  }
 ],
 "metadata": {
  "kernelspec": {
   "display_name": "Python 3",
   "language": "python",
   "name": "python3"
  },
  "language_info": {
   "codemirror_mode": {
    "name": "ipython",
    "version": 3
   },
   "file_extension": ".py",
   "mimetype": "text/x-python",
   "name": "python",
   "nbconvert_exporter": "python",
   "pygments_lexer": "ipython3",
   "version": "3.13.2"
  }
 },
 "nbformat": 4,
 "nbformat_minor": 5
}
