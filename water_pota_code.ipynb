{
 "cells": [
  {
   "cell_type": "markdown",
   "id": "a52cdc15",
   "metadata": {},
   "source": [
    "# Import thư viện"
   ]
  },
  {
   "cell_type": "code",
   "execution_count": 2,
   "id": "ed2232f0",
   "metadata": {},
   "outputs": [
    {
     "data": {
      "application/vnd.microsoft.datawrangler.viewer.v0+json": {
       "columns": [
        {
         "name": "index",
         "rawType": "int64",
         "type": "integer"
        },
        {
         "name": "ph",
         "rawType": "float64",
         "type": "float"
        },
        {
         "name": "Hardness",
         "rawType": "float64",
         "type": "float"
        },
        {
         "name": "Solids",
         "rawType": "float64",
         "type": "float"
        },
        {
         "name": "Chloramines",
         "rawType": "float64",
         "type": "float"
        },
        {
         "name": "Sulfate",
         "rawType": "float64",
         "type": "float"
        },
        {
         "name": "Conductivity",
         "rawType": "float64",
         "type": "float"
        },
        {
         "name": "Organic_carbon",
         "rawType": "float64",
         "type": "float"
        },
        {
         "name": "Trihalomethanes",
         "rawType": "float64",
         "type": "float"
        },
        {
         "name": "Turbidity",
         "rawType": "float64",
         "type": "float"
        },
        {
         "name": "Potability",
         "rawType": "int64",
         "type": "integer"
        }
       ],
       "conversionMethod": "pd.DataFrame",
       "ref": "111fa5e5-4925-4946-acbd-a129fb5d5296",
       "rows": [
        [
         "0",
         null,
         "204.8904554713363",
         "20791.318980747023",
         "7.300211873184757",
         "368.51644134980336",
         "564.3086541722439",
         "10.3797830780847",
         "86.9909704615088",
         "2.9631353806316407",
         "0"
        ],
        [
         "1",
         "3.71608007538699",
         "129.42292051494425",
         "18630.057857970347",
         "6.635245883862",
         null,
         "592.8853591348523",
         "15.18001311635726",
         "56.32907628451764",
         "4.500656274942408",
         "0"
        ],
        [
         "2",
         "8.099124189298397",
         "224.23625939355776",
         "19909.541732292397",
         "9.275883602694089",
         null,
         "418.6062130644815",
         "16.868636929550973",
         "66.42009251176368",
         "3.0559337496641685",
         "0"
        ],
        [
         "3",
         "8.316765884214679",
         "214.3733940856225",
         "22018.41744077529",
         "8.05933237743854",
         "356.88613564305666",
         "363.2665161642437",
         "18.436524495493305",
         "100.34167436508008",
         "4.628770536837084",
         "0"
        ],
        [
         "4",
         "9.092223456290965",
         "181.10150923612525",
         "17978.98633892625",
         "6.546599974207941",
         "310.13573752420444",
         "398.4108133818447",
         "11.558279443446397",
         "31.997992727424737",
         "4.075075425430034",
         "0"
        ]
       ],
       "shape": {
        "columns": 10,
        "rows": 5
       }
      },
      "text/html": [
       "<div>\n",
       "<style scoped>\n",
       "    .dataframe tbody tr th:only-of-type {\n",
       "        vertical-align: middle;\n",
       "    }\n",
       "\n",
       "    .dataframe tbody tr th {\n",
       "        vertical-align: top;\n",
       "    }\n",
       "\n",
       "    .dataframe thead th {\n",
       "        text-align: right;\n",
       "    }\n",
       "</style>\n",
       "<table border=\"1\" class=\"dataframe\">\n",
       "  <thead>\n",
       "    <tr style=\"text-align: right;\">\n",
       "      <th></th>\n",
       "      <th>ph</th>\n",
       "      <th>Hardness</th>\n",
       "      <th>Solids</th>\n",
       "      <th>Chloramines</th>\n",
       "      <th>Sulfate</th>\n",
       "      <th>Conductivity</th>\n",
       "      <th>Organic_carbon</th>\n",
       "      <th>Trihalomethanes</th>\n",
       "      <th>Turbidity</th>\n",
       "      <th>Potability</th>\n",
       "    </tr>\n",
       "  </thead>\n",
       "  <tbody>\n",
       "    <tr>\n",
       "      <th>0</th>\n",
       "      <td>NaN</td>\n",
       "      <td>204.890455</td>\n",
       "      <td>20791.318981</td>\n",
       "      <td>7.300212</td>\n",
       "      <td>368.516441</td>\n",
       "      <td>564.308654</td>\n",
       "      <td>10.379783</td>\n",
       "      <td>86.990970</td>\n",
       "      <td>2.963135</td>\n",
       "      <td>0</td>\n",
       "    </tr>\n",
       "    <tr>\n",
       "      <th>1</th>\n",
       "      <td>3.716080</td>\n",
       "      <td>129.422921</td>\n",
       "      <td>18630.057858</td>\n",
       "      <td>6.635246</td>\n",
       "      <td>NaN</td>\n",
       "      <td>592.885359</td>\n",
       "      <td>15.180013</td>\n",
       "      <td>56.329076</td>\n",
       "      <td>4.500656</td>\n",
       "      <td>0</td>\n",
       "    </tr>\n",
       "    <tr>\n",
       "      <th>2</th>\n",
       "      <td>8.099124</td>\n",
       "      <td>224.236259</td>\n",
       "      <td>19909.541732</td>\n",
       "      <td>9.275884</td>\n",
       "      <td>NaN</td>\n",
       "      <td>418.606213</td>\n",
       "      <td>16.868637</td>\n",
       "      <td>66.420093</td>\n",
       "      <td>3.055934</td>\n",
       "      <td>0</td>\n",
       "    </tr>\n",
       "    <tr>\n",
       "      <th>3</th>\n",
       "      <td>8.316766</td>\n",
       "      <td>214.373394</td>\n",
       "      <td>22018.417441</td>\n",
       "      <td>8.059332</td>\n",
       "      <td>356.886136</td>\n",
       "      <td>363.266516</td>\n",
       "      <td>18.436524</td>\n",
       "      <td>100.341674</td>\n",
       "      <td>4.628771</td>\n",
       "      <td>0</td>\n",
       "    </tr>\n",
       "    <tr>\n",
       "      <th>4</th>\n",
       "      <td>9.092223</td>\n",
       "      <td>181.101509</td>\n",
       "      <td>17978.986339</td>\n",
       "      <td>6.546600</td>\n",
       "      <td>310.135738</td>\n",
       "      <td>398.410813</td>\n",
       "      <td>11.558279</td>\n",
       "      <td>31.997993</td>\n",
       "      <td>4.075075</td>\n",
       "      <td>0</td>\n",
       "    </tr>\n",
       "  </tbody>\n",
       "</table>\n",
       "</div>"
      ],
      "text/plain": [
       "         ph    Hardness        Solids  Chloramines     Sulfate  Conductivity  \\\n",
       "0       NaN  204.890455  20791.318981     7.300212  368.516441    564.308654   \n",
       "1  3.716080  129.422921  18630.057858     6.635246         NaN    592.885359   \n",
       "2  8.099124  224.236259  19909.541732     9.275884         NaN    418.606213   \n",
       "3  8.316766  214.373394  22018.417441     8.059332  356.886136    363.266516   \n",
       "4  9.092223  181.101509  17978.986339     6.546600  310.135738    398.410813   \n",
       "\n",
       "   Organic_carbon  Trihalomethanes  Turbidity  Potability  \n",
       "0       10.379783        86.990970   2.963135           0  \n",
       "1       15.180013        56.329076   4.500656           0  \n",
       "2       16.868637        66.420093   3.055934           0  \n",
       "3       18.436524       100.341674   4.628771           0  \n",
       "4       11.558279        31.997993   4.075075           0  "
      ]
     },
     "execution_count": 2,
     "metadata": {},
     "output_type": "execute_result"
    }
   ],
   "source": [
    "import numpy as np\n",
    "import pandas as pd\n",
    "\n",
    "import warnings\n",
    "warnings.filterwarnings('ignore')\n",
    "\n",
    "from collections import Counter\n",
    "\n",
    "import matplotlib.pyplot as plt\n",
    "import seaborn as sns\n",
    "\n",
    "from sklearn.preprocessing import StandardScaler\n",
    "from sklearn.model_selection import train_test_split\n",
    "\n",
    "df = pd.read_csv('water_potability.csv')\n",
    "df.head()"
   ]
  },
  {
   "cell_type": "markdown",
   "id": "67dea522",
   "metadata": {},
   "source": [
    "# Tiền xử lý dữ liệu"
   ]
  },
  {
   "cell_type": "code",
   "execution_count": 2,
   "id": "ee35bcc5",
   "metadata": {},
   "outputs": [
    {
     "data": {
      "text/plain": [
       "ph                 491\n",
       "Hardness             0\n",
       "Solids               0\n",
       "Chloramines          0\n",
       "Sulfate            781\n",
       "Conductivity         0\n",
       "Organic_carbon       0\n",
       "Trihalomethanes    162\n",
       "Turbidity            0\n",
       "Potability           0\n",
       "dtype: int64"
      ]
     },
     "execution_count": 2,
     "metadata": {},
     "output_type": "execute_result"
    }
   ],
   "source": [
    "df.isnull().sum()"
   ]
  },
  {
   "cell_type": "code",
   "execution_count": 3,
   "id": "cef9f7db",
   "metadata": {},
   "outputs": [
    {
     "data": {
      "application/vnd.microsoft.datawrangler.viewer.v0+json": {
       "columns": [
        {
         "name": "index",
         "rawType": "object",
         "type": "string"
        },
        {
         "name": "count",
         "rawType": "float64",
         "type": "float"
        },
        {
         "name": "mean",
         "rawType": "float64",
         "type": "float"
        },
        {
         "name": "std",
         "rawType": "float64",
         "type": "float"
        },
        {
         "name": "min",
         "rawType": "float64",
         "type": "float"
        },
        {
         "name": "25%",
         "rawType": "float64",
         "type": "float"
        },
        {
         "name": "50%",
         "rawType": "float64",
         "type": "float"
        },
        {
         "name": "75%",
         "rawType": "float64",
         "type": "float"
        },
        {
         "name": "max",
         "rawType": "float64",
         "type": "float"
        }
       ],
       "conversionMethod": "pd.DataFrame",
       "ref": "2d7b46c2-47cd-47bd-a9db-74b8af4f3629",
       "rows": [
        [
         "ph",
         "1684.0",
         "7.085378435983544",
         "1.6834990070793436",
         "0.0",
         "6.037723068455832",
         "7.035455515887571",
         "8.155510162269712",
         "13.999999999999998"
        ],
        [
         "Hardness",
         "1998.0",
         "196.73329218472793",
         "31.05753969900645",
         "98.45293050958628",
         "177.8232653682253",
         "197.12342321605394",
         "216.12068744533372",
         "304.23591211231667"
        ],
        [
         "Solids",
         "1998.0",
         "21777.490788123265",
         "8543.068787971217",
         "320.942611274359",
         "15663.057381523733",
         "20809.618279605398",
         "27006.24900913948",
         "61227.19600771213"
        ],
        [
         "Chloramines",
         "1998.0",
         "7.092174563443736",
         "1.501044941498872",
         "1.6839925807280034",
         "6.155640437909429",
         "7.090333864655992",
         "8.066461949592473",
         "12.653362021943142"
        ],
        [
         "Sulfate",
         "1510.0",
         "334.5642895786881",
         "36.745549399974614",
         "203.4445207741574",
         "311.26400565302725",
         "333.38942610169323",
         "356.85389670922535",
         "460.1070689926536"
        ],
        [
         "Conductivity",
         "1998.0",
         "426.7304535650347",
         "80.04731660779781",
         "181.483753985146",
         "368.498530340044",
         "422.2293312022622",
         "480.67719789237174",
         "753.3426195583046"
        ],
        [
         "Organic_carbon",
         "1998.0",
         "14.364335279947",
         "3.3345535500681556",
         "4.371898608441143",
         "12.101057280950585",
         "14.293507768607896",
         "16.64948500372357",
         "28.30000000000001"
        ],
        [
         "Trihalomethanes",
         "1891.0",
         "66.30355527306088",
         "16.07932007460937",
         "0.7379999999999995",
         "55.70652987493871",
         "66.54219804427565",
         "77.27770416669196",
         "120.03007700530677"
        ],
        [
         "Turbidity",
         "1998.0",
         "3.965799769125516",
         "0.7802823623252461",
         "1.45",
         "3.444062439805613",
         "3.9480762530520357",
         "4.496106034303861",
         "6.739"
        ],
        [
         "Potability",
         "1998.0",
         "0.0",
         "0.0",
         "0.0",
         "0.0",
         "0.0",
         "0.0",
         "0.0"
        ]
       ],
       "shape": {
        "columns": 8,
        "rows": 10
       }
      },
      "text/html": [
       "<div>\n",
       "<style scoped>\n",
       "    .dataframe tbody tr th:only-of-type {\n",
       "        vertical-align: middle;\n",
       "    }\n",
       "\n",
       "    .dataframe tbody tr th {\n",
       "        vertical-align: top;\n",
       "    }\n",
       "\n",
       "    .dataframe thead th {\n",
       "        text-align: right;\n",
       "    }\n",
       "</style>\n",
       "<table border=\"1\" class=\"dataframe\">\n",
       "  <thead>\n",
       "    <tr style=\"text-align: right;\">\n",
       "      <th></th>\n",
       "      <th>count</th>\n",
       "      <th>mean</th>\n",
       "      <th>std</th>\n",
       "      <th>min</th>\n",
       "      <th>25%</th>\n",
       "      <th>50%</th>\n",
       "      <th>75%</th>\n",
       "      <th>max</th>\n",
       "    </tr>\n",
       "  </thead>\n",
       "  <tbody>\n",
       "    <tr>\n",
       "      <th>ph</th>\n",
       "      <td>1684.0</td>\n",
       "      <td>7.085378</td>\n",
       "      <td>1.683499</td>\n",
       "      <td>0.000000</td>\n",
       "      <td>6.037723</td>\n",
       "      <td>7.035456</td>\n",
       "      <td>8.155510</td>\n",
       "      <td>14.000000</td>\n",
       "    </tr>\n",
       "    <tr>\n",
       "      <th>Hardness</th>\n",
       "      <td>1998.0</td>\n",
       "      <td>196.733292</td>\n",
       "      <td>31.057540</td>\n",
       "      <td>98.452931</td>\n",
       "      <td>177.823265</td>\n",
       "      <td>197.123423</td>\n",
       "      <td>216.120687</td>\n",
       "      <td>304.235912</td>\n",
       "    </tr>\n",
       "    <tr>\n",
       "      <th>Solids</th>\n",
       "      <td>1998.0</td>\n",
       "      <td>21777.490788</td>\n",
       "      <td>8543.068788</td>\n",
       "      <td>320.942611</td>\n",
       "      <td>15663.057382</td>\n",
       "      <td>20809.618280</td>\n",
       "      <td>27006.249009</td>\n",
       "      <td>61227.196008</td>\n",
       "    </tr>\n",
       "    <tr>\n",
       "      <th>Chloramines</th>\n",
       "      <td>1998.0</td>\n",
       "      <td>7.092175</td>\n",
       "      <td>1.501045</td>\n",
       "      <td>1.683993</td>\n",
       "      <td>6.155640</td>\n",
       "      <td>7.090334</td>\n",
       "      <td>8.066462</td>\n",
       "      <td>12.653362</td>\n",
       "    </tr>\n",
       "    <tr>\n",
       "      <th>Sulfate</th>\n",
       "      <td>1510.0</td>\n",
       "      <td>334.564290</td>\n",
       "      <td>36.745549</td>\n",
       "      <td>203.444521</td>\n",
       "      <td>311.264006</td>\n",
       "      <td>333.389426</td>\n",
       "      <td>356.853897</td>\n",
       "      <td>460.107069</td>\n",
       "    </tr>\n",
       "    <tr>\n",
       "      <th>Conductivity</th>\n",
       "      <td>1998.0</td>\n",
       "      <td>426.730454</td>\n",
       "      <td>80.047317</td>\n",
       "      <td>181.483754</td>\n",
       "      <td>368.498530</td>\n",
       "      <td>422.229331</td>\n",
       "      <td>480.677198</td>\n",
       "      <td>753.342620</td>\n",
       "    </tr>\n",
       "    <tr>\n",
       "      <th>Organic_carbon</th>\n",
       "      <td>1998.0</td>\n",
       "      <td>14.364335</td>\n",
       "      <td>3.334554</td>\n",
       "      <td>4.371899</td>\n",
       "      <td>12.101057</td>\n",
       "      <td>14.293508</td>\n",
       "      <td>16.649485</td>\n",
       "      <td>28.300000</td>\n",
       "    </tr>\n",
       "    <tr>\n",
       "      <th>Trihalomethanes</th>\n",
       "      <td>1891.0</td>\n",
       "      <td>66.303555</td>\n",
       "      <td>16.079320</td>\n",
       "      <td>0.738000</td>\n",
       "      <td>55.706530</td>\n",
       "      <td>66.542198</td>\n",
       "      <td>77.277704</td>\n",
       "      <td>120.030077</td>\n",
       "    </tr>\n",
       "    <tr>\n",
       "      <th>Turbidity</th>\n",
       "      <td>1998.0</td>\n",
       "      <td>3.965800</td>\n",
       "      <td>0.780282</td>\n",
       "      <td>1.450000</td>\n",
       "      <td>3.444062</td>\n",
       "      <td>3.948076</td>\n",
       "      <td>4.496106</td>\n",
       "      <td>6.739000</td>\n",
       "    </tr>\n",
       "    <tr>\n",
       "      <th>Potability</th>\n",
       "      <td>1998.0</td>\n",
       "      <td>0.000000</td>\n",
       "      <td>0.000000</td>\n",
       "      <td>0.000000</td>\n",
       "      <td>0.000000</td>\n",
       "      <td>0.000000</td>\n",
       "      <td>0.000000</td>\n",
       "      <td>0.000000</td>\n",
       "    </tr>\n",
       "  </tbody>\n",
       "</table>\n",
       "</div>"
      ],
      "text/plain": [
       "                  count          mean          std         min           25%  \\\n",
       "ph               1684.0      7.085378     1.683499    0.000000      6.037723   \n",
       "Hardness         1998.0    196.733292    31.057540   98.452931    177.823265   \n",
       "Solids           1998.0  21777.490788  8543.068788  320.942611  15663.057382   \n",
       "Chloramines      1998.0      7.092175     1.501045    1.683993      6.155640   \n",
       "Sulfate          1510.0    334.564290    36.745549  203.444521    311.264006   \n",
       "Conductivity     1998.0    426.730454    80.047317  181.483754    368.498530   \n",
       "Organic_carbon   1998.0     14.364335     3.334554    4.371899     12.101057   \n",
       "Trihalomethanes  1891.0     66.303555    16.079320    0.738000     55.706530   \n",
       "Turbidity        1998.0      3.965800     0.780282    1.450000      3.444062   \n",
       "Potability       1998.0      0.000000     0.000000    0.000000      0.000000   \n",
       "\n",
       "                          50%           75%           max  \n",
       "ph                   7.035456      8.155510     14.000000  \n",
       "Hardness           197.123423    216.120687    304.235912  \n",
       "Solids           20809.618280  27006.249009  61227.196008  \n",
       "Chloramines          7.090334      8.066462     12.653362  \n",
       "Sulfate            333.389426    356.853897    460.107069  \n",
       "Conductivity       422.229331    480.677198    753.342620  \n",
       "Organic_carbon      14.293508     16.649485     28.300000  \n",
       "Trihalomethanes     66.542198     77.277704    120.030077  \n",
       "Turbidity            3.948076      4.496106      6.739000  \n",
       "Potability           0.000000      0.000000      0.000000  "
      ]
     },
     "execution_count": 3,
     "metadata": {},
     "output_type": "execute_result"
    }
   ],
   "source": [
    "df[df['Potability'] == 0].describe().T"
   ]
  },
  {
   "cell_type": "code",
   "execution_count": 4,
   "id": "7b058904",
   "metadata": {},
   "outputs": [
    {
     "data": {
      "application/vnd.microsoft.datawrangler.viewer.v0+json": {
       "columns": [
        {
         "name": "index",
         "rawType": "object",
         "type": "string"
        },
        {
         "name": "count",
         "rawType": "float64",
         "type": "float"
        },
        {
         "name": "mean",
         "rawType": "float64",
         "type": "float"
        },
        {
         "name": "std",
         "rawType": "float64",
         "type": "float"
        },
        {
         "name": "min",
         "rawType": "float64",
         "type": "float"
        },
        {
         "name": "25%",
         "rawType": "float64",
         "type": "float"
        },
        {
         "name": "50%",
         "rawType": "float64",
         "type": "float"
        },
        {
         "name": "75%",
         "rawType": "float64",
         "type": "float"
        },
        {
         "name": "max",
         "rawType": "float64",
         "type": "float"
        }
       ],
       "conversionMethod": "pd.DataFrame",
       "ref": "0e8ffd49-496d-4858-a847-58bb8058740f",
       "rows": [
        [
         "ph",
         "1101.0",
         "7.0737832953812",
         "1.4480481486738817",
         "0.2274990502021987",
         "6.179312077651539",
         "7.036752103833548",
         "7.933067691513921",
         "13.175401724233025"
        ],
        [
         "Hardness",
         "1278.0",
         "195.80074426259276",
         "35.54704078415084",
         "47.432",
         "174.33053144229612",
         "196.6329070886398",
         "218.00342038709096",
         "323.124"
        ],
        [
         "Solids",
         "1278.0",
         "22383.99101780775",
         "9101.010208254906",
         "728.7508295768456",
         "15668.985034874642",
         "21199.38661404485",
         "27973.236446407398",
         "56488.67241273919"
        ],
        [
         "Chloramines",
         "1278.0",
         "7.169338026214626",
         "1.7029876826324724",
         "0.3520000000000003",
         "6.094133563248015",
         "7.215163009948823",
         "8.199261442679553",
         "13.127000000000002"
        ],
        [
         "Sulfate",
         "985.0",
         "332.5669902336656",
         "47.69281834822759",
         "129.00000000000003",
         "300.7637719072286",
         "331.8381671295742",
         "365.9413461121188",
         "481.0306423059972"
        ],
        [
         "Conductivity",
         "1278.0",
         "425.38379997895566",
         "82.04844619323838",
         "201.6197367551575",
         "360.9390225594526",
         "420.71272912166967",
         "484.15591109520597",
         "695.3695279880473"
        ],
        [
         "Organic_carbon",
         "1278.0",
         "14.160892521171197",
         "3.2639067661275787",
         "2.1999999999999886",
         "12.033897118881185",
         "14.162808700391992",
         "16.356245435100547",
         "23.60429797466412"
        ],
        [
         "Trihalomethanes",
         "1223.0",
         "66.53968374070116",
         "16.32741926055761",
         "8.175876384274268",
         "56.01424900497346",
         "66.6782137100115",
         "77.38097531174441",
         "124.0"
        ],
        [
         "Turbidity",
         "1278.0",
         "3.968328289141415",
         "0.7808417703382445",
         "1.4922066153042484",
         "3.430909338727502",
         "3.958576217567654",
         "4.509568597447933",
         "6.494249467472996"
        ],
        [
         "Potability",
         "1278.0",
         "1.0",
         "0.0",
         "1.0",
         "1.0",
         "1.0",
         "1.0",
         "1.0"
        ]
       ],
       "shape": {
        "columns": 8,
        "rows": 10
       }
      },
      "text/html": [
       "<div>\n",
       "<style scoped>\n",
       "    .dataframe tbody tr th:only-of-type {\n",
       "        vertical-align: middle;\n",
       "    }\n",
       "\n",
       "    .dataframe tbody tr th {\n",
       "        vertical-align: top;\n",
       "    }\n",
       "\n",
       "    .dataframe thead th {\n",
       "        text-align: right;\n",
       "    }\n",
       "</style>\n",
       "<table border=\"1\" class=\"dataframe\">\n",
       "  <thead>\n",
       "    <tr style=\"text-align: right;\">\n",
       "      <th></th>\n",
       "      <th>count</th>\n",
       "      <th>mean</th>\n",
       "      <th>std</th>\n",
       "      <th>min</th>\n",
       "      <th>25%</th>\n",
       "      <th>50%</th>\n",
       "      <th>75%</th>\n",
       "      <th>max</th>\n",
       "    </tr>\n",
       "  </thead>\n",
       "  <tbody>\n",
       "    <tr>\n",
       "      <th>ph</th>\n",
       "      <td>1101.0</td>\n",
       "      <td>7.073783</td>\n",
       "      <td>1.448048</td>\n",
       "      <td>0.227499</td>\n",
       "      <td>6.179312</td>\n",
       "      <td>7.036752</td>\n",
       "      <td>7.933068</td>\n",
       "      <td>13.175402</td>\n",
       "    </tr>\n",
       "    <tr>\n",
       "      <th>Hardness</th>\n",
       "      <td>1278.0</td>\n",
       "      <td>195.800744</td>\n",
       "      <td>35.547041</td>\n",
       "      <td>47.432000</td>\n",
       "      <td>174.330531</td>\n",
       "      <td>196.632907</td>\n",
       "      <td>218.003420</td>\n",
       "      <td>323.124000</td>\n",
       "    </tr>\n",
       "    <tr>\n",
       "      <th>Solids</th>\n",
       "      <td>1278.0</td>\n",
       "      <td>22383.991018</td>\n",
       "      <td>9101.010208</td>\n",
       "      <td>728.750830</td>\n",
       "      <td>15668.985035</td>\n",
       "      <td>21199.386614</td>\n",
       "      <td>27973.236446</td>\n",
       "      <td>56488.672413</td>\n",
       "    </tr>\n",
       "    <tr>\n",
       "      <th>Chloramines</th>\n",
       "      <td>1278.0</td>\n",
       "      <td>7.169338</td>\n",
       "      <td>1.702988</td>\n",
       "      <td>0.352000</td>\n",
       "      <td>6.094134</td>\n",
       "      <td>7.215163</td>\n",
       "      <td>8.199261</td>\n",
       "      <td>13.127000</td>\n",
       "    </tr>\n",
       "    <tr>\n",
       "      <th>Sulfate</th>\n",
       "      <td>985.0</td>\n",
       "      <td>332.566990</td>\n",
       "      <td>47.692818</td>\n",
       "      <td>129.000000</td>\n",
       "      <td>300.763772</td>\n",
       "      <td>331.838167</td>\n",
       "      <td>365.941346</td>\n",
       "      <td>481.030642</td>\n",
       "    </tr>\n",
       "    <tr>\n",
       "      <th>Conductivity</th>\n",
       "      <td>1278.0</td>\n",
       "      <td>425.383800</td>\n",
       "      <td>82.048446</td>\n",
       "      <td>201.619737</td>\n",
       "      <td>360.939023</td>\n",
       "      <td>420.712729</td>\n",
       "      <td>484.155911</td>\n",
       "      <td>695.369528</td>\n",
       "    </tr>\n",
       "    <tr>\n",
       "      <th>Organic_carbon</th>\n",
       "      <td>1278.0</td>\n",
       "      <td>14.160893</td>\n",
       "      <td>3.263907</td>\n",
       "      <td>2.200000</td>\n",
       "      <td>12.033897</td>\n",
       "      <td>14.162809</td>\n",
       "      <td>16.356245</td>\n",
       "      <td>23.604298</td>\n",
       "    </tr>\n",
       "    <tr>\n",
       "      <th>Trihalomethanes</th>\n",
       "      <td>1223.0</td>\n",
       "      <td>66.539684</td>\n",
       "      <td>16.327419</td>\n",
       "      <td>8.175876</td>\n",
       "      <td>56.014249</td>\n",
       "      <td>66.678214</td>\n",
       "      <td>77.380975</td>\n",
       "      <td>124.000000</td>\n",
       "    </tr>\n",
       "    <tr>\n",
       "      <th>Turbidity</th>\n",
       "      <td>1278.0</td>\n",
       "      <td>3.968328</td>\n",
       "      <td>0.780842</td>\n",
       "      <td>1.492207</td>\n",
       "      <td>3.430909</td>\n",
       "      <td>3.958576</td>\n",
       "      <td>4.509569</td>\n",
       "      <td>6.494249</td>\n",
       "    </tr>\n",
       "    <tr>\n",
       "      <th>Potability</th>\n",
       "      <td>1278.0</td>\n",
       "      <td>1.000000</td>\n",
       "      <td>0.000000</td>\n",
       "      <td>1.000000</td>\n",
       "      <td>1.000000</td>\n",
       "      <td>1.000000</td>\n",
       "      <td>1.000000</td>\n",
       "      <td>1.000000</td>\n",
       "    </tr>\n",
       "  </tbody>\n",
       "</table>\n",
       "</div>"
      ],
      "text/plain": [
       "                  count          mean          std         min           25%  \\\n",
       "ph               1101.0      7.073783     1.448048    0.227499      6.179312   \n",
       "Hardness         1278.0    195.800744    35.547041   47.432000    174.330531   \n",
       "Solids           1278.0  22383.991018  9101.010208  728.750830  15668.985035   \n",
       "Chloramines      1278.0      7.169338     1.702988    0.352000      6.094134   \n",
       "Sulfate           985.0    332.566990    47.692818  129.000000    300.763772   \n",
       "Conductivity     1278.0    425.383800    82.048446  201.619737    360.939023   \n",
       "Organic_carbon   1278.0     14.160893     3.263907    2.200000     12.033897   \n",
       "Trihalomethanes  1223.0     66.539684    16.327419    8.175876     56.014249   \n",
       "Turbidity        1278.0      3.968328     0.780842    1.492207      3.430909   \n",
       "Potability       1278.0      1.000000     0.000000    1.000000      1.000000   \n",
       "\n",
       "                          50%           75%           max  \n",
       "ph                   7.036752      7.933068     13.175402  \n",
       "Hardness           196.632907    218.003420    323.124000  \n",
       "Solids           21199.386614  27973.236446  56488.672413  \n",
       "Chloramines          7.215163      8.199261     13.127000  \n",
       "Sulfate            331.838167    365.941346    481.030642  \n",
       "Conductivity       420.712729    484.155911    695.369528  \n",
       "Organic_carbon      14.162809     16.356245     23.604298  \n",
       "Trihalomethanes     66.678214     77.380975    124.000000  \n",
       "Turbidity            3.958576      4.509569      6.494249  \n",
       "Potability           1.000000      1.000000      1.000000  "
      ]
     },
     "execution_count": 4,
     "metadata": {},
     "output_type": "execute_result"
    }
   ],
   "source": [
    "df[df['Potability'] == 1].describe().T"
   ]
  },
  {
   "cell_type": "code",
   "execution_count": 5,
   "id": "fb00020a",
   "metadata": {},
   "outputs": [
    {
     "name": "stdout",
     "output_type": "stream",
     "text": [
      "ph                   7.085378\n",
      "Sulfate            334.564290\n",
      "Trihalomethanes     66.303555\n",
      "dtype: float64\n",
      "\n",
      "\n",
      "ph                   7.035456\n",
      "Sulfate            333.389426\n",
      "Trihalomethanes     66.542198\n",
      "dtype: float64\n"
     ]
    }
   ],
   "source": [
    "# Xem trung bình, trung vị của 3 cột có giá trị null\n",
    "print(df[df['Potability']==0][['ph','Sulfate','Trihalomethanes']].mean()) \n",
    "print('\\n')\n",
    "print(df[df['Potability']==0][['ph','Sulfate','Trihalomethanes']].median())"
   ]
  },
  {
   "cell_type": "code",
   "execution_count": 6,
   "id": "ed793bb7",
   "metadata": {},
   "outputs": [
    {
     "name": "stdout",
     "output_type": "stream",
     "text": [
      "\n",
      "\n"
     ]
    },
    {
     "data": {
      "text/plain": [
       "ph                   7.036752\n",
       "Sulfate            331.838167\n",
       "Trihalomethanes     66.678214\n",
       "dtype: float64"
      ]
     },
     "execution_count": 6,
     "metadata": {},
     "output_type": "execute_result"
    }
   ],
   "source": [
    "df[df['Potability']==1][['ph','Sulfate','Trihalomethanes']].mean()\n",
    "print('\\n')\n",
    "df[df['Potability']==1][['ph','Sulfate','Trihalomethanes']].median()"
   ]
  },
  {
   "cell_type": "code",
   "execution_count": 7,
   "id": "1d4f902d",
   "metadata": {},
   "outputs": [],
   "source": [
    "# Điền ô null bằng trung vị\n",
    "df['ph'].fillna(value=df['ph'].median(),inplace=True)\n",
    "df['Sulfate'].fillna(value=df['Sulfate'].median(),inplace=True)\n",
    "df['Trihalomethanes'].fillna(value=df['Trihalomethanes'].median(),inplace=True)"
   ]
  },
  {
   "cell_type": "markdown",
   "id": "da7bc446",
   "metadata": {},
   "source": [
    "# Chạy mô hình"
   ]
  }
 ],
 "metadata": {
  "kernelspec": {
   "display_name": "Python 3",
   "language": "python",
   "name": "python3"
  },
  "language_info": {
   "codemirror_mode": {
    "name": "ipython",
    "version": 3
   },
   "file_extension": ".py",
   "mimetype": "text/x-python",
   "name": "python",
   "nbconvert_exporter": "python",
   "pygments_lexer": "ipython3",
   "version": "3.13.2"
  }
 },
 "nbformat": 4,
 "nbformat_minor": 5
}
